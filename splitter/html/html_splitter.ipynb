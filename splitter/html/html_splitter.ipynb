{
 "cells": [
  {
   "cell_type": "code",
   "execution_count": 7,
   "metadata": {},
   "outputs": [],
   "source": [
    "from bs4 import Tag\n",
    "from langchain_text_splitters import HTMLHeaderTextSplitter"
   ]
  },
  {
   "cell_type": "code",
   "execution_count": 8,
   "metadata": {},
   "outputs": [],
   "source": [
    "headers_to_split_on = [\n",
    "    (\"h1\", \"Header 1\"),\n",
    "    (\"h2\", \"Header 2\"),\n",
    "    (\"h3\", \"Header 3\"),\n",
    "]"
   ]
  },
  {
   "cell_type": "code",
   "execution_count": 9,
   "metadata": {},
   "outputs": [],
   "source": [
    "html_splitter = HTMLHeaderTextSplitter(headers_to_split_on)"
   ]
  },
  {
   "cell_type": "code",
   "execution_count": 10,
   "metadata": {},
   "outputs": [],
   "source": [
    "url = \"https://docs.vngcloud.vn/vng-cloud-document/vn/vks/mo-hinh-hoat-dong\"\n",
    "\n",
    "html_header_splits = html_splitter.split_text_from_url(url)"
   ]
  },
  {
   "cell_type": "code",
   "execution_count": 17,
   "metadata": {},
   "outputs": [],
   "source": [
    "from langchain_text_splitters import RecursiveCharacterTextSplitter\n",
    "\n",
    "chunk_size = 2000\n",
    "chunk_overlap = 1700\n",
    "text_splitter = RecursiveCharacterTextSplitter(\n",
    "    chunk_size=chunk_size, chunk_overlap=chunk_overlap\n",
    ")"
   ]
  },
  {
   "cell_type": "code",
   "execution_count": 18,
   "metadata": {},
   "outputs": [
    {
     "data": {
      "text/plain": [
       "[Document(metadata={}, page_content=\"Tạo kết nối chuyên dụng (Dedicated)Xem thông tin kết nốiCập nhật kết nốiXóa kết nối  \\nMulticloud InterconnectHybrid InterconnectVPN InterconnectSử dụng kết hợp các phương thức kết nối Interconnect  \\nMở rộng Volume với hệ điều hành LinuxMở rộng Volume với hệ điều hành WindowsVolume TypesKiểm tra hiệu suất IOPSChuyển đổi Volume Type  \\nKích hoạt SnapshotTạo SnapshotXem thông tin SnapshotKhôi phục máy chủ ảo bằng bản SnapshotKhôi phục ổ đĩa ảo bằng bản SnapshotXóa SnapshotCách tính giá dịch vụ SnapshotVô hiệu hóa dịch vụ SnapshotTrường hợp sử dụng SnapshotChia sẻ Snapshot  \\nKhôi phục hệ thống sau thảm hoạPhát triển và kiểm traSao lưu và phục hồi hệ thống định kỳChuyển dữ liệu và ứng dụng giữa các môi trườngChống lại cuộc tấn công từ Hacker hoặc nhiễm malware  \\nSSH Key (Bộ khóa)Security Groups  \\nDeployment ModeFeature ComparisonApplication Load BalancerNetwork Load BalancerAuto ScalingGiám sát hoạt động LBBảo mật  \\nMô hình hoạt độngBắt đầu sử dụngQuản lý Load Balancer (ALB)ListenerCertificatePool  \\nAdd a HTTP listenerAdd a HTTPS listenerUpdate & Delete a ListenerListener PoliciesClient Certificate AuthenticationConfig IP whitelist to load balancerConfig timeout  \\nUpload a certificate  \\nAdd & Update a PoolPool MembersConfig health check settingEnable sticky sessionEnable TLS encryptionPool's algorithm  \\nAttach pool members  \\nMô hình hoạt độngBắt đầu sử dụngQuản lý Load Balancer (NLB)Listener (NLB)Pool (NLB)Ứng dụng phổ biến  \\nTạo TCP ListenerTạo UDP ListenerThay đổi và xóa Listener (NLB)Cấu hình IP Whitelist to Load Balancer (NLB)Cấu hình timeout (NLB)  \\nTạo & cập nhật Pool (NLB)Pool Member (NLB)Cấu hình health check (NLB)Pool's algorithm (NLB)  \\nConfig protocol Proxy with member Nginx  \\nMetricsLogs  \\nCài đặt TerraformQuản lý vServer với TerraformQuản lý vContainer với TerraformQuản lý vLB với TerraformTài liệu tham chiếuThông số tích hợp với Terraform  \\nCác hành động, tài nguyên và điều kiện cần cho Phân quyền truy cập vServerCác trường hợp sử dụng IAM\"),\n",
       " Document(metadata={}, page_content=\"Kích hoạt SnapshotTạo SnapshotXem thông tin SnapshotKhôi phục máy chủ ảo bằng bản SnapshotKhôi phục ổ đĩa ảo bằng bản SnapshotXóa SnapshotCách tính giá dịch vụ SnapshotVô hiệu hóa dịch vụ SnapshotTrường hợp sử dụng SnapshotChia sẻ Snapshot  \\nKhôi phục hệ thống sau thảm hoạPhát triển và kiểm traSao lưu và phục hồi hệ thống định kỳChuyển dữ liệu và ứng dụng giữa các môi trườngChống lại cuộc tấn công từ Hacker hoặc nhiễm malware  \\nSSH Key (Bộ khóa)Security Groups  \\nDeployment ModeFeature ComparisonApplication Load BalancerNetwork Load BalancerAuto ScalingGiám sát hoạt động LBBảo mật  \\nMô hình hoạt độngBắt đầu sử dụngQuản lý Load Balancer (ALB)ListenerCertificatePool  \\nAdd a HTTP listenerAdd a HTTPS listenerUpdate & Delete a ListenerListener PoliciesClient Certificate AuthenticationConfig IP whitelist to load balancerConfig timeout  \\nUpload a certificate  \\nAdd & Update a PoolPool MembersConfig health check settingEnable sticky sessionEnable TLS encryptionPool's algorithm  \\nAttach pool members  \\nMô hình hoạt độngBắt đầu sử dụngQuản lý Load Balancer (NLB)Listener (NLB)Pool (NLB)Ứng dụng phổ biến  \\nTạo TCP ListenerTạo UDP ListenerThay đổi và xóa Listener (NLB)Cấu hình IP Whitelist to Load Balancer (NLB)Cấu hình timeout (NLB)  \\nTạo & cập nhật Pool (NLB)Pool Member (NLB)Cấu hình health check (NLB)Pool's algorithm (NLB)  \\nConfig protocol Proxy with member Nginx  \\nMetricsLogs  \\nCài đặt TerraformQuản lý vServer với TerraformQuản lý vContainer với TerraformQuản lý vLB với TerraformTài liệu tham chiếuThông số tích hợp với Terraform  \\nCác hành động, tài nguyên và điều kiện cần cho Phân quyền truy cập vServerCác trường hợp sử dụng IAM  \\nThird-party integration processApplication Software InstallationNetwork Software Installation  \\nKhởi tạo và cài đặt ứng dụng  \\nJuniper vSRX trên HCM03Pfsense trên HCM03  \\nKhởi tạo Juniper vSRXRouting cho các range IP trong VPC đi qua vSRX\"),\n",
       " Document(metadata={}, page_content=\"Khôi phục hệ thống sau thảm hoạPhát triển và kiểm traSao lưu và phục hồi hệ thống định kỳChuyển dữ liệu và ứng dụng giữa các môi trườngChống lại cuộc tấn công từ Hacker hoặc nhiễm malware  \\nSSH Key (Bộ khóa)Security Groups  \\nDeployment ModeFeature ComparisonApplication Load BalancerNetwork Load BalancerAuto ScalingGiám sát hoạt động LBBảo mật  \\nMô hình hoạt độngBắt đầu sử dụngQuản lý Load Balancer (ALB)ListenerCertificatePool  \\nAdd a HTTP listenerAdd a HTTPS listenerUpdate & Delete a ListenerListener PoliciesClient Certificate AuthenticationConfig IP whitelist to load balancerConfig timeout  \\nUpload a certificate  \\nAdd & Update a PoolPool MembersConfig health check settingEnable sticky sessionEnable TLS encryptionPool's algorithm  \\nAttach pool members  \\nMô hình hoạt độngBắt đầu sử dụngQuản lý Load Balancer (NLB)Listener (NLB)Pool (NLB)Ứng dụng phổ biến  \\nTạo TCP ListenerTạo UDP ListenerThay đổi và xóa Listener (NLB)Cấu hình IP Whitelist to Load Balancer (NLB)Cấu hình timeout (NLB)  \\nTạo & cập nhật Pool (NLB)Pool Member (NLB)Cấu hình health check (NLB)Pool's algorithm (NLB)  \\nConfig protocol Proxy with member Nginx  \\nMetricsLogs  \\nCài đặt TerraformQuản lý vServer với TerraformQuản lý vContainer với TerraformQuản lý vLB với TerraformTài liệu tham chiếuThông số tích hợp với Terraform  \\nCác hành động, tài nguyên và điều kiện cần cho Phân quyền truy cập vServerCác trường hợp sử dụng IAM  \\nThird-party integration processApplication Software InstallationNetwork Software Installation  \\nKhởi tạo và cài đặt ứng dụng  \\nJuniper vSRX trên HCM03Pfsense trên HCM03  \\nKhởi tạo Juniper vSRXRouting cho các range IP trong VPC đi qua vSRX  \\nKhởi tạo Pfsense trên HCM03Routing cho các range IP trong VPC đi qua PfsenseVPN Client to ServerVPN Site to SiteHướng dẫn khắc phục sự cố ngắt kết nối mạngLưu ý & hạn chế cho PfsenseMTU và “DF flag” best practice on VNG Cloud  \\nPFsense - AWS CloudCho Phép Routing đi qua Pfsense  \\nObject storageFilestorageBackup với Veeam\"),\n",
       " Document(metadata={}, page_content=\"Mô hình hoạt độngBắt đầu sử dụngQuản lý Load Balancer (ALB)ListenerCertificatePool  \\nAdd a HTTP listenerAdd a HTTPS listenerUpdate & Delete a ListenerListener PoliciesClient Certificate AuthenticationConfig IP whitelist to load balancerConfig timeout  \\nUpload a certificate  \\nAdd & Update a PoolPool MembersConfig health check settingEnable sticky sessionEnable TLS encryptionPool's algorithm  \\nAttach pool members  \\nMô hình hoạt độngBắt đầu sử dụngQuản lý Load Balancer (NLB)Listener (NLB)Pool (NLB)Ứng dụng phổ biến  \\nTạo TCP ListenerTạo UDP ListenerThay đổi và xóa Listener (NLB)Cấu hình IP Whitelist to Load Balancer (NLB)Cấu hình timeout (NLB)  \\nTạo & cập nhật Pool (NLB)Pool Member (NLB)Cấu hình health check (NLB)Pool's algorithm (NLB)  \\nConfig protocol Proxy with member Nginx  \\nMetricsLogs  \\nCài đặt TerraformQuản lý vServer với TerraformQuản lý vContainer với TerraformQuản lý vLB với TerraformTài liệu tham chiếuThông số tích hợp với Terraform  \\nCác hành động, tài nguyên và điều kiện cần cho Phân quyền truy cập vServerCác trường hợp sử dụng IAM  \\nThird-party integration processApplication Software InstallationNetwork Software Installation  \\nKhởi tạo và cài đặt ứng dụng  \\nJuniper vSRX trên HCM03Pfsense trên HCM03  \\nKhởi tạo Juniper vSRXRouting cho các range IP trong VPC đi qua vSRX  \\nKhởi tạo Pfsense trên HCM03Routing cho các range IP trong VPC đi qua PfsenseVPN Client to ServerVPN Site to SiteHướng dẫn khắc phục sự cố ngắt kết nối mạngLưu ý & hạn chế cho PfsenseMTU và “DF flag” best practice on VNG Cloud  \\nPFsense - AWS CloudCho Phép Routing đi qua Pfsense  \\nObject storageFilestorageBackup với Veeam  \\nObject storage (HCM03, HAN01)Object storage (HCM04)  \\nvStorage là gì?Thông báo và cập nhậtBắt đầu với vStorageCác tính năng của vStorageQuản lý truy cập3rd party softwaresHạn mức tài nguyênGiới hạn tính năngCách tính phíGiám sát dịch vụBảo mật (security)Tình huống sử dụng (use case)API developersStorage gateway  \\nRegion là gì?Farm là gì?Đơn vị đo lường\"),\n",
       " Document(metadata={}, page_content=\"Attach pool members  \\nMô hình hoạt độngBắt đầu sử dụngQuản lý Load Balancer (NLB)Listener (NLB)Pool (NLB)Ứng dụng phổ biến  \\nTạo TCP ListenerTạo UDP ListenerThay đổi và xóa Listener (NLB)Cấu hình IP Whitelist to Load Balancer (NLB)Cấu hình timeout (NLB)  \\nTạo & cập nhật Pool (NLB)Pool Member (NLB)Cấu hình health check (NLB)Pool's algorithm (NLB)  \\nConfig protocol Proxy with member Nginx  \\nMetricsLogs  \\nCài đặt TerraformQuản lý vServer với TerraformQuản lý vContainer với TerraformQuản lý vLB với TerraformTài liệu tham chiếuThông số tích hợp với Terraform  \\nCác hành động, tài nguyên và điều kiện cần cho Phân quyền truy cập vServerCác trường hợp sử dụng IAM  \\nThird-party integration processApplication Software InstallationNetwork Software Installation  \\nKhởi tạo và cài đặt ứng dụng  \\nJuniper vSRX trên HCM03Pfsense trên HCM03  \\nKhởi tạo Juniper vSRXRouting cho các range IP trong VPC đi qua vSRX  \\nKhởi tạo Pfsense trên HCM03Routing cho các range IP trong VPC đi qua PfsenseVPN Client to ServerVPN Site to SiteHướng dẫn khắc phục sự cố ngắt kết nối mạngLưu ý & hạn chế cho PfsenseMTU và “DF flag” best practice on VNG Cloud  \\nPFsense - AWS CloudCho Phép Routing đi qua Pfsense  \\nObject storageFilestorageBackup với Veeam  \\nObject storage (HCM03, HAN01)Object storage (HCM04)  \\nvStorage là gì?Thông báo và cập nhậtBắt đầu với vStorageCác tính năng của vStorageQuản lý truy cập3rd party softwaresHạn mức tài nguyênGiới hạn tính năngCách tính phíGiám sát dịch vụBảo mật (security)Tình huống sử dụng (use case)API developersStorage gateway  \\nRegion là gì?Farm là gì?Đơn vị đo lường  \\n2024202320222021\"),\n",
       " Document(metadata={}, page_content=\"Tạo TCP ListenerTạo UDP ListenerThay đổi và xóa Listener (NLB)Cấu hình IP Whitelist to Load Balancer (NLB)Cấu hình timeout (NLB)  \\nTạo & cập nhật Pool (NLB)Pool Member (NLB)Cấu hình health check (NLB)Pool's algorithm (NLB)  \\nConfig protocol Proxy with member Nginx  \\nMetricsLogs  \\nCài đặt TerraformQuản lý vServer với TerraformQuản lý vContainer với TerraformQuản lý vLB với TerraformTài liệu tham chiếuThông số tích hợp với Terraform  \\nCác hành động, tài nguyên và điều kiện cần cho Phân quyền truy cập vServerCác trường hợp sử dụng IAM  \\nThird-party integration processApplication Software InstallationNetwork Software Installation  \\nKhởi tạo và cài đặt ứng dụng  \\nJuniper vSRX trên HCM03Pfsense trên HCM03  \\nKhởi tạo Juniper vSRXRouting cho các range IP trong VPC đi qua vSRX  \\nKhởi tạo Pfsense trên HCM03Routing cho các range IP trong VPC đi qua PfsenseVPN Client to ServerVPN Site to SiteHướng dẫn khắc phục sự cố ngắt kết nối mạngLưu ý & hạn chế cho PfsenseMTU và “DF flag” best practice on VNG Cloud  \\nPFsense - AWS CloudCho Phép Routing đi qua Pfsense  \\nObject storageFilestorageBackup với Veeam  \\nObject storage (HCM03, HAN01)Object storage (HCM04)  \\nvStorage là gì?Thông báo và cập nhậtBắt đầu với vStorageCác tính năng của vStorageQuản lý truy cập3rd party softwaresHạn mức tài nguyênGiới hạn tính năngCách tính phíGiám sát dịch vụBảo mật (security)Tình huống sử dụng (use case)API developersStorage gateway  \\nRegion là gì?Farm là gì?Đơn vị đo lường  \\n2024202320222021  \\nHệ thống vStorage portal mới đã có sẵnCải tiến hiệu năng các reports trên vStorage portal mớiThêm tính năng thiết lập IP Range ACLsThêm tính năng tích hợp vStorage với công cụ S3 SDKThêm tính năng tìm kiếm thông qua wildcard, regex cho chức năng search và lifecycle expirationChuyển đổi đơn vị lưu trữ từ storage base 1000 sang 1024Cải tiến tính năng, sửa lỗi vStorage trong tháng 09/2023Release Leaked Segment Detecting & Deleting Tool\"),\n",
       " Document(metadata={}, page_content='Config protocol Proxy with member Nginx  \\nMetricsLogs  \\nCài đặt TerraformQuản lý vServer với TerraformQuản lý vContainer với TerraformQuản lý vLB với TerraformTài liệu tham chiếuThông số tích hợp với Terraform  \\nCác hành động, tài nguyên và điều kiện cần cho Phân quyền truy cập vServerCác trường hợp sử dụng IAM  \\nThird-party integration processApplication Software InstallationNetwork Software Installation  \\nKhởi tạo và cài đặt ứng dụng  \\nJuniper vSRX trên HCM03Pfsense trên HCM03  \\nKhởi tạo Juniper vSRXRouting cho các range IP trong VPC đi qua vSRX  \\nKhởi tạo Pfsense trên HCM03Routing cho các range IP trong VPC đi qua PfsenseVPN Client to ServerVPN Site to SiteHướng dẫn khắc phục sự cố ngắt kết nối mạngLưu ý & hạn chế cho PfsenseMTU và “DF flag” best practice on VNG Cloud  \\nPFsense - AWS CloudCho Phép Routing đi qua Pfsense  \\nObject storageFilestorageBackup với Veeam  \\nObject storage (HCM03, HAN01)Object storage (HCM04)  \\nvStorage là gì?Thông báo và cập nhậtBắt đầu với vStorageCác tính năng của vStorageQuản lý truy cập3rd party softwaresHạn mức tài nguyênGiới hạn tính năngCách tính phíGiám sát dịch vụBảo mật (security)Tình huống sử dụng (use case)API developersStorage gateway  \\nRegion là gì?Farm là gì?Đơn vị đo lường  \\n2024202320222021  \\nHệ thống vStorage portal mới đã có sẵnCải tiến hiệu năng các reports trên vStorage portal mớiThêm tính năng thiết lập IP Range ACLsThêm tính năng tích hợp vStorage với công cụ S3 SDKThêm tính năng tìm kiếm thông qua wildcard, regex cho chức năng search và lifecycle expirationChuyển đổi đơn vị lưu trữ từ storage base 1000 sang 1024Cải tiến tính năng, sửa lỗi vStorage trong tháng 09/2023Release Leaked Segment Detecting & Deleting Tool  \\nRelease SME simple packageRelease Clouding searchingRelease Object pattern expiration  \\nRelease Storage gateway 2.0 - Rclone'),\n",
       " Document(metadata={}, page_content='Các hành động, tài nguyên và điều kiện cần cho Phân quyền truy cập vServerCác trường hợp sử dụng IAM  \\nThird-party integration processApplication Software InstallationNetwork Software Installation  \\nKhởi tạo và cài đặt ứng dụng  \\nJuniper vSRX trên HCM03Pfsense trên HCM03  \\nKhởi tạo Juniper vSRXRouting cho các range IP trong VPC đi qua vSRX  \\nKhởi tạo Pfsense trên HCM03Routing cho các range IP trong VPC đi qua PfsenseVPN Client to ServerVPN Site to SiteHướng dẫn khắc phục sự cố ngắt kết nối mạngLưu ý & hạn chế cho PfsenseMTU và “DF flag” best practice on VNG Cloud  \\nPFsense - AWS CloudCho Phép Routing đi qua Pfsense  \\nObject storageFilestorageBackup với Veeam  \\nObject storage (HCM03, HAN01)Object storage (HCM04)  \\nvStorage là gì?Thông báo và cập nhậtBắt đầu với vStorageCác tính năng của vStorageQuản lý truy cập3rd party softwaresHạn mức tài nguyênGiới hạn tính năngCách tính phíGiám sát dịch vụBảo mật (security)Tình huống sử dụng (use case)API developersStorage gateway  \\nRegion là gì?Farm là gì?Đơn vị đo lường  \\n2024202320222021  \\nHệ thống vStorage portal mới đã có sẵnCải tiến hiệu năng các reports trên vStorage portal mớiThêm tính năng thiết lập IP Range ACLsThêm tính năng tích hợp vStorage với công cụ S3 SDKThêm tính năng tìm kiếm thông qua wildcard, regex cho chức năng search và lifecycle expirationChuyển đổi đơn vị lưu trữ từ storage base 1000 sang 1024Cải tiến tính năng, sửa lỗi vStorage trong tháng 09/2023Release Leaked Segment Detecting & Deleting Tool  \\nRelease SME simple packageRelease Clouding searchingRelease Object pattern expiration  \\nRelease Storage gateway 2.0 - Rclone  \\nBước 1: Tạo project đầu tiênBước 2: Tạo container đầu tiênBước 3: Tải một object lên containerBước 4: Tải xuống một object từ một containerBước 5: Sao chép object tới một thư mụcBước 6: Xóa object và container'),\n",
       " Document(metadata={}, page_content='Khởi tạo và cài đặt ứng dụng  \\nJuniper vSRX trên HCM03Pfsense trên HCM03  \\nKhởi tạo Juniper vSRXRouting cho các range IP trong VPC đi qua vSRX  \\nKhởi tạo Pfsense trên HCM03Routing cho các range IP trong VPC đi qua PfsenseVPN Client to ServerVPN Site to SiteHướng dẫn khắc phục sự cố ngắt kết nối mạngLưu ý & hạn chế cho PfsenseMTU và “DF flag” best practice on VNG Cloud  \\nPFsense - AWS CloudCho Phép Routing đi qua Pfsense  \\nObject storageFilestorageBackup với Veeam  \\nObject storage (HCM03, HAN01)Object storage (HCM04)  \\nvStorage là gì?Thông báo và cập nhậtBắt đầu với vStorageCác tính năng của vStorageQuản lý truy cập3rd party softwaresHạn mức tài nguyênGiới hạn tính năngCách tính phíGiám sát dịch vụBảo mật (security)Tình huống sử dụng (use case)API developersStorage gateway  \\nRegion là gì?Farm là gì?Đơn vị đo lường  \\n2024202320222021  \\nHệ thống vStorage portal mới đã có sẵnCải tiến hiệu năng các reports trên vStorage portal mớiThêm tính năng thiết lập IP Range ACLsThêm tính năng tích hợp vStorage với công cụ S3 SDKThêm tính năng tìm kiếm thông qua wildcard, regex cho chức năng search và lifecycle expirationChuyển đổi đơn vị lưu trữ từ storage base 1000 sang 1024Cải tiến tính năng, sửa lỗi vStorage trong tháng 09/2023Release Leaked Segment Detecting & Deleting Tool  \\nRelease SME simple packageRelease Clouding searchingRelease Object pattern expiration  \\nRelease Storage gateway 2.0 - Rclone  \\nBước 1: Tạo project đầu tiênBước 2: Tạo container đầu tiênBước 3: Tải một object lên containerBước 4: Tải xuống một object từ một containerBước 5: Sao chép object tới một thư mụcBước 6: Xóa object và container  \\nLàm việc với projectLàm việc với containerLàm việc với directory và objectLàm việc với báo cáoLàm việc với trial projectLàm việc với POC projectLàm việc với Archive projectLàm việc với vBackup project'),\n",
       " Document(metadata={}, page_content='Khởi tạo Pfsense trên HCM03Routing cho các range IP trong VPC đi qua PfsenseVPN Client to ServerVPN Site to SiteHướng dẫn khắc phục sự cố ngắt kết nối mạngLưu ý & hạn chế cho PfsenseMTU và “DF flag” best practice on VNG Cloud  \\nPFsense - AWS CloudCho Phép Routing đi qua Pfsense  \\nObject storageFilestorageBackup với Veeam  \\nObject storage (HCM03, HAN01)Object storage (HCM04)  \\nvStorage là gì?Thông báo và cập nhậtBắt đầu với vStorageCác tính năng của vStorageQuản lý truy cập3rd party softwaresHạn mức tài nguyênGiới hạn tính năngCách tính phíGiám sát dịch vụBảo mật (security)Tình huống sử dụng (use case)API developersStorage gateway  \\nRegion là gì?Farm là gì?Đơn vị đo lường  \\n2024202320222021  \\nHệ thống vStorage portal mới đã có sẵnCải tiến hiệu năng các reports trên vStorage portal mớiThêm tính năng thiết lập IP Range ACLsThêm tính năng tích hợp vStorage với công cụ S3 SDKThêm tính năng tìm kiếm thông qua wildcard, regex cho chức năng search và lifecycle expirationChuyển đổi đơn vị lưu trữ từ storage base 1000 sang 1024Cải tiến tính năng, sửa lỗi vStorage trong tháng 09/2023Release Leaked Segment Detecting & Deleting Tool  \\nRelease SME simple packageRelease Clouding searchingRelease Object pattern expiration  \\nRelease Storage gateway 2.0 - Rclone  \\nBước 1: Tạo project đầu tiênBước 2: Tạo container đầu tiênBước 3: Tải một object lên containerBước 4: Tải xuống một object từ một containerBước 5: Sao chép object tới một thư mụcBước 6: Xóa object và container  \\nLàm việc với projectLàm việc với containerLàm việc với directory và objectLàm việc với báo cáoLàm việc với trial projectLàm việc với POC projectLàm việc với Archive projectLàm việc với vBackup project  \\nTổng quan projectPhạm vi giới hạn projectKhởi tạo projectXem thông tin projectTăng giảm hạn mức projectGia hạn projectGia hạn tự động projectXóa projectKhôi phục projectSử dụng tính năng IP range ACLs projectTăng dung lượng tự động (Auto-scale Quota)')]"
      ]
     },
     "execution_count": 18,
     "metadata": {},
     "output_type": "execute_result"
    }
   ],
   "source": [
    "# Split\n",
    "splits = text_splitter.split_documents(html_header_splits)\n",
    "splits[5:15]"
   ]
  },
  {
   "cell_type": "code",
   "execution_count": null,
   "metadata": {},
   "outputs": [],
   "source": []
  }
 ],
 "metadata": {
  "kernelspec": {
   "display_name": ".venv",
   "language": "python",
   "name": "python3"
  },
  "language_info": {
   "codemirror_mode": {
    "name": "ipython",
    "version": 3
   },
   "file_extension": ".py",
   "mimetype": "text/x-python",
   "name": "python",
   "nbconvert_exporter": "python",
   "pygments_lexer": "ipython3",
   "version": "3.10.12"
  }
 },
 "nbformat": 4,
 "nbformat_minor": 2
}
