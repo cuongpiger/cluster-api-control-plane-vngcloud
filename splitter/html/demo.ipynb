{
 "cells": [
  {
   "cell_type": "code",
   "execution_count": null,
   "metadata": {},
   "outputs": [],
   "source": [
    "%load_ext autoreload\n",
    "%autoreload 2"
   ]
  },
  {
   "cell_type": "markdown",
   "metadata": {},
   "source": [
    "# Prepare the VKS URLs"
   ]
  },
  {
   "cell_type": "code",
   "execution_count": 2,
   "metadata": {},
   "outputs": [],
   "source": [
    "vks_urls = (\n",
    "    \"https://docs.vngcloud.vn/vng-cloud-document/vn/vks\",\n",
    "    \"https://docs.vngcloud.vn/vng-cloud-document/vn/vks/vks-la-gi\",\n",
    "    \"https://docs.vngcloud.vn/vng-cloud-document/vn/vks/mo-hinh-hoat-dong\",\n",
    "    \"https://docs.vngcloud.vn/vng-cloud-document/vn/vks/thong-bao-va-cap-nhat/release-notes\",\n",
    "    \"https://docs.vngcloud.vn/vng-cloud-document/vn/vks/bat-dau-voi-vks\",\n",
    "    \"https://docs.vngcloud.vn/vng-cloud-document/vn/vks/bat-dau-voi-vks/huong-dan-cai-dat-va-cau-hinh-cong-cu-kubectl-trong-kubernetes\",\n",
    "    \"https://docs.vngcloud.vn/vng-cloud-document/vn/vks/bat-dau-voi-vks/khoi-tao-mot-public-cluster\",\n",
    "    \"https://docs.vngcloud.vn/vng-cloud-document/vn/vks/bat-dau-voi-vks/khoi-tao-mot-public-cluster/khoi-tao-mot-public-cluster-voi-public-node-group\",\n",
    "    \"https://docs.vngcloud.vn/vng-cloud-document/vn/vks/bat-dau-voi-vks/khoi-tao-mot-public-cluster/khoi-tao-mot-public-cluster-voi-private-node-group\",\n",
    "    \"https://docs.vngcloud.vn/vng-cloud-document/vn/vks/bat-dau-voi-vks/khoi-tao-mot-public-cluster/khoi-tao-mot-public-cluster-voi-private-node-group/palo-alto-as-a-nat-gateway\",\n",
    "    \"https://docs.vngcloud.vn/vng-cloud-document/vn/vks/bat-dau-voi-vks/khoi-tao-mot-public-cluster/khoi-tao-mot-public-cluster-voi-private-node-group/pfsense-as-a-nat-gateway\",\n",
    "    \"https://docs.vngcloud.vn/vng-cloud-document/vn/vks/bat-dau-voi-vks/khoi-tao-mot-private-cluster\",\n",
    "    \"https://docs.vngcloud.vn/vng-cloud-document/vn/vks/bat-dau-voi-vks/expose-mot-service-thong-qua-vlb-layer4\",\n",
    "    \"https://docs.vngcloud.vn/vng-cloud-document/vn/vks/bat-dau-voi-vks/expose-mot-service-thong-qua-vlb-layer4/preserve-source-ip-khi-su-dung-vlb-layer4-va-nginx-ingress-controller\",\n",
    "    \"https://docs.vngcloud.vn/vng-cloud-document/vn/vks/bat-dau-voi-vks/expose-mot-service-thong-qua-vlb-layer7\",\n",
    "    \"https://docs.vngcloud.vn/vng-cloud-document/vn/vks/bat-dau-voi-vks/integrate-with-container-storage-interface-csi\",\n",
    "    \"https://docs.vngcloud.vn/vng-cloud-document/vn/vks/bat-dau-voi-vks/khoi-tao-mot-cluster-thong-qua-vi-poc\",\n",
    "    \"https://docs.vngcloud.vn/vng-cloud-document/vn/vks/bat-dau-voi-vks/su-dung-terraform-de-khoi-tao-cluster-va-node-group\",\n",
    "    \"https://docs.vngcloud.vn/vng-cloud-document/vn/vks/bat-dau-voi-vks/lam-viec-voi-nvidia-gpu-nodegroups\",\n",
    "    \"https://docs.vngcloud.vn/vng-cloud-document/vn/vks/clusters\",\n",
    "    \"https://docs.vngcloud.vn/vng-cloud-document/vn/vks/clusters/public-cluster-va-private-cluster\",\n",
    "    \"https://docs.vngcloud.vn/vng-cloud-document/vn/vks/clusters/upgrading-control-plane-version\",\n",
    "    \"https://docs.vngcloud.vn/vng-cloud-document/vn/vks/clusters/whitelist\",\n",
    "    \"https://docs.vngcloud.vn/vng-cloud-document/vn/vks/clusters/stop-poc\",\n",
    "    \"https://docs.vngcloud.vn/vng-cloud-document/vn/vks/node-groups\",\n",
    "    \"https://docs.vngcloud.vn/vng-cloud-document/vn/vks/node-groups/auto-healing\",\n",
    "    \"https://docs.vngcloud.vn/vng-cloud-document/vn/vks/node-groups/auto-scaling\",\n",
    "    \"https://docs.vngcloud.vn/vng-cloud-document/vn/vks/node-groups/upgrading-node-group-version\",\n",
    "    \"https://docs.vngcloud.vn/vng-cloud-document/vn/vks/node-groups/lable-va-taint\",\n",
    "    \"https://docs.vngcloud.vn/vng-cloud-document/vn/vks/network/lam-viec-voi-application-load-balancer-alb\",\n",
    "    \"https://docs.vngcloud.vn/vng-cloud-document/vn/vks/network/lam-viec-voi-application-load-balancer-alb/ingress-for-an-application-load-balancer\",\n",
    "    \"https://docs.vngcloud.vn/vng-cloud-document/vn/vks/network/lam-viec-voi-application-load-balancer-alb/cau-hinh-cho-mot-application-load-balancer\",\n",
    "    \"https://docs.vngcloud.vn/vng-cloud-document/vn/vks/network/lam-viec-voi-application-load-balancer-alb/gioi-han-va-han-che-alb\",\n",
    "    \"https://docs.vngcloud.vn/vng-cloud-document/vn/vks/network/lam-viec-voi-network-load-balancing-nlb\",\n",
    "    \"https://docs.vngcloud.vn/vng-cloud-document/vn/vks/network/lam-viec-voi-network-load-balancing-nlb/integrate-with-network-load-balancer\",\n",
    "    \"https://docs.vngcloud.vn/vng-cloud-document/vn/vks/network/lam-viec-voi-network-load-balancing-nlb/cau-hinh-cho-mot-network-load-balancer\",\n",
    "    \"https://docs.vngcloud.vn/vng-cloud-document/vn/vks/network/lam-viec-voi-network-load-balancing-nlb/gioi-han-va-han-che-nlb\",\n",
    "    \"https://docs.vngcloud.vn/vng-cloud-document/vn/vks/network/cni\",\n",
    "    \"https://docs.vngcloud.vn/vng-cloud-document/vn/vks/network/cni/su-dung-cni-calico-overlay\",\n",
    "    \"https://docs.vngcloud.vn/vng-cloud-document/vn/vks/network/cni/su-dung-cni-cilium-overlay\",\n",
    "    \"https://docs.vngcloud.vn/vng-cloud-document/vn/vks/network/cni/su-dung-cni-cilium-vpc-native-routing\",\n",
    "    \"https://docs.vngcloud.vn/vng-cloud-document/vn/vks/storage/lam-viec-voi-container-storage-interface-csi\",\n",
    "    \"https://docs.vngcloud.vn/vng-cloud-document/vn/vks/storage/lam-viec-voi-container-storage-interface-csi/integrate-with-container-storage-interface-csi\",\n",
    "    \"https://docs.vngcloud.vn/vng-cloud-document/vn/vks/security-group\",\n",
    "    \"https://docs.vngcloud.vn/vng-cloud-document/vn/vks/upgrade-kubernetes-version/phien-ban-ho-tro-kubernetes\",\n",
    "    \"https://docs.vngcloud.vn/vng-cloud-document/vn/vks/upgrade-kubernetes-version/manually-upgrade\",\n",
    "    \"https://docs.vngcloud.vn/vng-cloud-document/vn/vks/upgrade-kubernetes-version/automatically-upgrade\",\n",
    "    \"https://docs.vngcloud.vn/vng-cloud-document/vn/vks/migration\",\n",
    "    \"https://docs.vngcloud.vn/vng-cloud-document/vn/vks/migration/migrate-cluster-from-vks-to-vks\",\n",
    "    \"https://docs.vngcloud.vn/vng-cloud-document/vn/vks/migration/migration-cluster-from-vcontainer-to-vks\",\n",
    "    \"https://docs.vngcloud.vn/vng-cloud-document/vn/vks/migration/migrate-cluster-from-other-to-vks\",\n",
    "    \"https://docs.vngcloud.vn/vng-cloud-document/vn/vks/migration/gioi-han-va-han-che\",\n",
    "    \"https://docs.vngcloud.vn/vng-cloud-document/vn/vks/su-dung-vks-voi-terraform\",\n",
    "    \"https://docs.vngcloud.vn/vng-cloud-document/vn/vks/giam-sat/metrics\",\n",
    "    \"https://docs.vngcloud.vn/vng-cloud-document/vn/vks/cach-tinh-gia\",\n",
    "    \"https://docs.vngcloud.vn/vng-cloud-document/vn/vks/tham-khao-them/danh-sach-flavor-dang-ho-tro\",\n",
    "    \"https://docs.vngcloud.vn/vng-cloud-document/vn/vks/tham-khao-them/danh-sach-system-image-dang-ho-tro\",\n",
    ")"
   ]
  },
  {
   "cell_type": "code",
   "execution_count": null,
   "metadata": {},
   "outputs": [],
   "source": []
  }
 ],
 "metadata": {
  "kernelspec": {
   "display_name": ".venv",
   "language": "python",
   "name": "python3"
  },
  "language_info": {
   "codemirror_mode": {
    "name": "ipython",
    "version": 3
   },
   "file_extension": ".py",
   "mimetype": "text/x-python",
   "name": "python",
   "nbconvert_exporter": "python",
   "pygments_lexer": "ipython3",
   "version": "3.10.12"
  }
 },
 "nbformat": 4,
 "nbformat_minor": 2
}
