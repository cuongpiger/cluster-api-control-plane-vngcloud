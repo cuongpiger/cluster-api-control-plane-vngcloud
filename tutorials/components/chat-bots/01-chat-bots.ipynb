{
 "cells": [
  {
   "cell_type": "code",
   "execution_count": 1,
   "metadata": {},
   "outputs": [],
   "source": [
    "%load_ext autoreload\n",
    "%autoreload 2"
   ]
  },
  {
   "cell_type": "markdown",
   "metadata": {},
   "source": [
    "# Import dependencies\n"
   ]
  },
  {
   "cell_type": "code",
   "execution_count": 46,
   "metadata": {},
   "outputs": [],
   "source": [
    "import os\n",
    "\n",
    "from langchain_google_vertexai import ChatVertexAI, VertexAIEmbeddings\n",
    "from langchain_core.messages import HumanMessage, SystemMessage, AIMessage, BaseMessage\n",
    "from langchain_core.documents import Document\n",
    "from langchain_core.prompts import ChatPromptTemplate, MessagesPlaceholder\n",
    "from langchain_community.document_loaders import PyPDFLoader\n",
    "from langchain_text_splitters import RecursiveCharacterTextSplitter\n",
    "from langchain_core.vectorstores import InMemoryVectorStore\n",
    "from langchain_core.runnables import chain\n",
    "from langchain_core.utils.function_calling import tool_example_to_messages\n",
    "from pydantic import BaseModel, Field\n",
    "from enum import Enum\n",
    "from langgraph.graph.message import add_messages\n",
    "from langchain_core.messages import trim_messages\n",
    "from langchain_google_genai import ChatGoogleGenerativeAI\n",
    "\n",
    "\n",
    "from IPython.display import display, Markdown, Latex\n",
    "\n",
    "from typing_extensions import Annotated, TypedDict\n",
    "from typing import List, Optional, Sequence"
   ]
  },
  {
   "cell_type": "markdown",
   "metadata": {},
   "source": [
    "# Configure Google credentials\n",
    "\n",
    "- **NOTE**: Remember change the `GOOGLE_APPLICATION_CREDENTIALS` to the path of your own Google credentials file.\n"
   ]
  },
  {
   "cell_type": "code",
   "execution_count": 3,
   "metadata": {},
   "outputs": [],
   "source": [
    "os.environ[\"GOOGLE_APPLICATION_CREDENTIALS\"] = (\n",
    "    \"/home/cuongdm/git-cuongpiger/secret/work/vngcloud/ai-platform/vertex-ai-credential.json\"\n",
    ")"
   ]
  },
  {
   "cell_type": "markdown",
   "metadata": {},
   "source": [
    "# Model"
   ]
  },
  {
   "cell_type": "code",
   "execution_count": 5,
   "metadata": {},
   "outputs": [],
   "source": [
    "model = ChatVertexAI(temperature=0, model=\"gemini-1.5-flash\")"
   ]
  },
  {
   "cell_type": "code",
   "execution_count": 6,
   "metadata": {},
   "outputs": [
    {
     "data": {
      "text/plain": [
       "AIMessage(content='Xin chào Tứ! Rất vui được gặp bạn. 😄 Bạn muốn làm gì hôm nay? \\n', additional_kwargs={}, response_metadata={'is_blocked': False, 'safety_ratings': [{'category': 'HARM_CATEGORY_HATE_SPEECH', 'probability_label': 'NEGLIGIBLE', 'probability_score': 0.028007585555315018, 'blocked': False, 'severity': 'HARM_SEVERITY_NEGLIGIBLE', 'severity_score': 0.05184546485543251}, {'category': 'HARM_CATEGORY_DANGEROUS_CONTENT', 'probability_label': 'NEGLIGIBLE', 'probability_score': 0.020964214578270912, 'blocked': False, 'severity': 'HARM_SEVERITY_NEGLIGIBLE', 'severity_score': 0.04023800417780876}, {'category': 'HARM_CATEGORY_HARASSMENT', 'probability_label': 'NEGLIGIBLE', 'probability_score': 0.08389048278331757, 'blocked': False, 'severity': 'HARM_SEVERITY_NEGLIGIBLE', 'severity_score': 0.06187598779797554}, {'category': 'HARM_CATEGORY_SEXUALLY_EXPLICIT', 'probability_label': 'NEGLIGIBLE', 'probability_score': 0.16344575583934784, 'blocked': False, 'severity': 'HARM_SEVERITY_NEGLIGIBLE', 'severity_score': 0.19682610034942627}], 'usage_metadata': {'prompt_token_count': 7, 'candidates_token_count': 22, 'total_token_count': 29, 'cached_content_token_count': 0}, 'finish_reason': 'STOP', 'avg_logprobs': -0.1763361692428589}, id='run-f07e399a-336c-4626-9766-60a494105482-0', usage_metadata={'input_tokens': 7, 'output_tokens': 22, 'total_tokens': 29})"
      ]
     },
     "execution_count": 6,
     "metadata": {},
     "output_type": "execute_result"
    }
   ],
   "source": [
    "model.invoke([HumanMessage(content=\"Xin chào, tao là Tứ\")])"
   ]
  },
  {
   "cell_type": "code",
   "execution_count": 7,
   "metadata": {},
   "outputs": [
    {
     "data": {
      "text/plain": [
       "AIMessage(content='Bạn muốn nói ra hết tất cả thay vì gì? \\n\\nHãy chia sẻ với tôi những gì bạn đang nghĩ. Tôi ở đây để lắng nghe và hỗ trợ bạn. \\n\\nCó thể bạn đang muốn:\\n\\n* **Nói ra những cảm xúc bị kìm nén:** Bạn có thể đang giữ trong lòng những cảm xúc tiêu cực như tức giận, buồn bã, thất vọng, hay sợ hãi. Nói ra chúng có thể giúp bạn giải tỏa và cảm thấy nhẹ nhàng hơn.\\n* **Chia sẻ những suy nghĩ và ý tưởng:** Bạn có thể có những ý tưởng hay những suy nghĩ độc đáo mà bạn muốn chia sẻ với người khác. Nói ra chúng có thể giúp bạn nhận được phản hồi và sự hỗ trợ.\\n* **Giải quyết một vấn đề:** Bạn có thể đang gặp phải một vấn đề khó khăn và muốn tìm cách giải quyết. Nói ra vấn đề của bạn có thể giúp bạn nhận được lời khuyên và sự giúp đỡ từ người khác.\\n\\nDù bạn muốn nói ra điều gì, hãy nhớ rằng bạn không cô đơn. Tôi ở đây để lắng nghe và hỗ trợ bạn. \\n\\nHãy chia sẻ với tôi những gì bạn đang nghĩ, tôi sẽ cố gắng hết sức để giúp bạn. \\n', additional_kwargs={}, response_metadata={'is_blocked': False, 'safety_ratings': [{'category': 'HARM_CATEGORY_HATE_SPEECH', 'probability_label': 'NEGLIGIBLE', 'probability_score': 0.018833156675100327, 'blocked': False, 'severity': 'HARM_SEVERITY_NEGLIGIBLE', 'severity_score': 0.007577236276119947}, {'category': 'HARM_CATEGORY_DANGEROUS_CONTENT', 'probability_label': 'NEGLIGIBLE', 'probability_score': 0.004070146940648556, 'blocked': False, 'severity': 'HARM_SEVERITY_NEGLIGIBLE', 'severity_score': 0.01826431415975094}, {'category': 'HARM_CATEGORY_HARASSMENT', 'probability_label': 'NEGLIGIBLE', 'probability_score': 0.03258975222706795, 'blocked': False, 'severity': 'HARM_SEVERITY_NEGLIGIBLE', 'severity_score': 0.010328171774744987}, {'category': 'HARM_CATEGORY_SEXUALLY_EXPLICIT', 'probability_label': 'NEGLIGIBLE', 'probability_score': 0.03021467849612236, 'blocked': False, 'severity': 'HARM_SEVERITY_NEGLIGIBLE', 'severity_score': 0.04272221028804779}], 'usage_metadata': {'prompt_token_count': 15, 'candidates_token_count': 260, 'total_token_count': 275, 'cached_content_token_count': 0}, 'finish_reason': 'STOP', 'avg_logprobs': -0.20935795123760517}, id='run-aa0c7712-84f8-4216-aaba-7fe605f3097e-0', usage_metadata={'input_tokens': 15, 'output_tokens': 260, 'total_tokens': 275})"
      ]
     },
     "execution_count": 7,
     "metadata": {},
     "output_type": "execute_result"
    }
   ],
   "source": [
    "model.invoke(\n",
    "    [HumanMessage(content=\"Nhiều khi tao muốn một lần nói ra hết tất cả thay vì.\")]\n",
    ")"
   ]
  },
  {
   "cell_type": "code",
   "execution_count": 10,
   "metadata": {},
   "outputs": [
    {
     "data": {
      "text/plain": [
       "AIMessage(content='VKS (VngCloud Kubernetes Service) cung cấp nhiều tính năng hữu ích cho việc triển khai và quản lý ứng dụng trên Kubernetes, bao gồm:\\n\\n**Quản lý cụm Kubernetes:**\\n\\n* **Fully managed Kubernetes:** VKS tự động quản lý và cập nhật các thành phần của cụm Kubernetes, giúp bạn tập trung vào việc phát triển ứng dụng.\\n* **Autoscaling:** Tự động điều chỉnh kích thước cụm Kubernetes dựa trên tải trọng của ứng dụng, đảm bảo hiệu suất và tối ưu hóa chi phí.\\n* **Monitoring:** Theo dõi trạng thái và hiệu suất của cụm Kubernetes, giúp bạn phát hiện và giải quyết các vấn đề kịp thời.\\n* **Logging:** Thu thập và lưu trữ nhật ký của cụm Kubernetes, giúp bạn phân tích và gỡ lỗi ứng dụng.\\n* **Networking:** Cung cấp các dịch vụ mạng cho cụm Kubernetes, bao gồm load balancing, DNS, và ingress controller.\\n* **Security:** Bảo mật cụm Kubernetes bằng các tính năng như RBAC, network policy, và container security.\\n\\n**Phát triển và triển khai ứng dụng:**\\n\\n* **Deployment:** Triển khai ứng dụng lên cụm Kubernetes một cách dễ dàng và nhanh chóng.\\n* **Service discovery:** Phát hiện và kết nối các dịch vụ trong cụm Kubernetes.\\n* **Configuration management:** Quản lý cấu hình của ứng dụng một cách tập trung.\\n* **CI/CD integration:** Tích hợp với các công cụ CI/CD để tự động hóa quá trình phát triển và triển khai ứng dụng.\\n\\n**Ngoài ra, VKS còn cung cấp các tính năng khác như:**\\n\\n* **Backup and restore:** Sao lưu và khôi phục dữ liệu của cụm Kubernetes.\\n* **Disaster recovery:** Khôi phục cụm Kubernetes sau khi xảy ra sự cố.\\n* **Support:** Hỗ trợ kỹ thuật từ VngCloud.\\n\\nVKS là một giải pháp toàn diện cho việc triển khai và quản lý ứng dụng trên Kubernetes, giúp bạn tiết kiệm thời gian, công sức và chi phí.\\n', additional_kwargs={}, response_metadata={'is_blocked': False, 'safety_ratings': [{'category': 'HARM_CATEGORY_HATE_SPEECH', 'probability_label': 'NEGLIGIBLE', 'probability_score': 0.0128211984410882, 'blocked': False, 'severity': 'HARM_SEVERITY_NEGLIGIBLE', 'severity_score': 0.01590641401708126}, {'category': 'HARM_CATEGORY_DANGEROUS_CONTENT', 'probability_label': 'NEGLIGIBLE', 'probability_score': 0.013222835958003998, 'blocked': False, 'severity': 'HARM_SEVERITY_NEGLIGIBLE', 'severity_score': 0.1613202542066574}, {'category': 'HARM_CATEGORY_HARASSMENT', 'probability_label': 'NEGLIGIBLE', 'probability_score': 0.011331766843795776, 'blocked': False, 'severity': 'HARM_SEVERITY_NEGLIGIBLE', 'severity_score': 0.02887095883488655}, {'category': 'HARM_CATEGORY_SEXUALLY_EXPLICIT', 'probability_label': 'NEGLIGIBLE', 'probability_score': 0.0039454116486012936, 'blocked': False, 'severity': 'HARM_SEVERITY_NEGLIGIBLE', 'severity_score': 0.02194826677441597}], 'usage_metadata': {'prompt_token_count': 69, 'candidates_token_count': 431, 'total_token_count': 500, 'cached_content_token_count': 0}, 'finish_reason': 'STOP', 'avg_logprobs': -0.1590819392016205}, id='run-57db8166-b3a3-4baa-85f1-41d4bff7adf8-0', usage_metadata={'input_tokens': 69, 'output_tokens': 431, 'total_tokens': 500})"
      ]
     },
     "execution_count": 10,
     "metadata": {},
     "output_type": "execute_result"
    }
   ],
   "source": [
    "model.invoke(\n",
    "    [\n",
    "        HumanMessage(content=\"VKS là gì?\"),\n",
    "        AIMessage(\n",
    "            content=\"VKS là viết tắt của VngCloud Kubernetes Service, một dịch vụ của VngCloud nhằm cung cấp các cụm Kubernetes đến khách hàng. VKS cung cấp các tính năng như fully managed Kubernetes, autoscaling, monitoring, logging, và nhiều tính năng khác.\"\n",
    "        ),\n",
    "        HumanMessage(content=\"Các tính năng của VKS là gì?\"),\n",
    "    ]\n",
    ")"
   ]
  },
  {
   "cell_type": "markdown",
   "metadata": {},
   "source": [
    "# Message persistence"
   ]
  },
  {
   "cell_type": "code",
   "execution_count": 11,
   "metadata": {},
   "outputs": [],
   "source": [
    "from langgraph.checkpoint.memory import MemorySaver\n",
    "from langgraph.graph import START, MessagesState, StateGraph"
   ]
  },
  {
   "cell_type": "code",
   "execution_count": 12,
   "metadata": {},
   "outputs": [],
   "source": [
    "# Define a new graph\n",
    "workflow = StateGraph(state_schema=MessagesState)\n",
    "\n",
    "\n",
    "# Define the function that calls the model\n",
    "def call_model(state: MessagesState):\n",
    "    response = model.invoke(state[\"messages\"])\n",
    "    return {\"messages\": response}\n",
    "\n",
    "\n",
    "# Define the (single) node in the graph\n",
    "workflow.add_edge(START, \"model\")\n",
    "workflow.add_node(\"model\", call_model)\n",
    "\n",
    "# Add memory\n",
    "memory = MemorySaver()\n",
    "app = workflow.compile(checkpointer=memory)"
   ]
  },
  {
   "cell_type": "code",
   "execution_count": 13,
   "metadata": {},
   "outputs": [],
   "source": [
    "config = {\"configurable\": {\"thread_id\": \"abc123\"}}"
   ]
  },
  {
   "cell_type": "code",
   "execution_count": 14,
   "metadata": {},
   "outputs": [
    {
     "name": "stdout",
     "output_type": "stream",
     "text": [
      "==================================\u001b[1m Ai Message \u001b[0m==================================\n",
      "\n",
      "Bạn không thể dạy một con cá biết leo cây! Cá được thiết kế để sống dưới nước, chúng có mang để thở và vây để bơi. Chúng không có chân, tay, hay khả năng leo trèo. \n",
      "\n",
      "Câu hỏi này là một câu đố vui, nhằm nhắc nhở chúng ta rằng mỗi loài động vật đều có những khả năng và giới hạn riêng.\n"
     ]
    }
   ],
   "source": [
    "query = \"Làm sao để dạy một con cá biết leo cây?\"\n",
    "\n",
    "input_messages = [HumanMessage(query)]\n",
    "output = app.invoke({\"messages\": input_messages}, config)\n",
    "output[\"messages\"][-1].pretty_print()  # output contains all messages in state"
   ]
  },
  {
   "cell_type": "markdown",
   "metadata": {},
   "source": [
    "# Async message"
   ]
  },
  {
   "cell_type": "code",
   "execution_count": 15,
   "metadata": {},
   "outputs": [],
   "source": [
    "# Async function for node:\n",
    "async def call_model(state: MessagesState):\n",
    "    response = await model.ainvoke(state[\"messages\"])\n",
    "    return {\"messages\": response}\n",
    "\n",
    "\n",
    "# Define graph as before:\n",
    "workflow = StateGraph(state_schema=MessagesState)\n",
    "workflow.add_edge(START, \"model\")\n",
    "workflow.add_node(\"model\", call_model)\n",
    "app = workflow.compile(checkpointer=MemorySaver())"
   ]
  },
  {
   "cell_type": "code",
   "execution_count": 16,
   "metadata": {},
   "outputs": [
    {
     "name": "stdout",
     "output_type": "stream",
     "text": [
      "==================================\u001b[1m Ai Message \u001b[0m==================================\n",
      "\n",
      "Bạn không thể dạy một con cá biết leo cây! Cá được thiết kế để sống dưới nước, chúng có mang để thở và vây để bơi. Chúng không có chân, tay, hay khả năng leo trèo. \n",
      "\n",
      "Câu hỏi này là một câu đố vui, nhằm nhắc nhở chúng ta rằng mỗi loài động vật đều có những khả năng và giới hạn riêng.\n"
     ]
    }
   ],
   "source": [
    "# Async invocation:\n",
    "output = await app.ainvoke({\"messages\": input_messages}, config)\n",
    "output[\"messages\"][-1].pretty_print()"
   ]
  },
  {
   "cell_type": "markdown",
   "metadata": {},
   "source": [
    "# Prompt templates"
   ]
  },
  {
   "cell_type": "code",
   "execution_count": 23,
   "metadata": {},
   "outputs": [],
   "source": [
    "prompt_template = ChatPromptTemplate.from_messages(\n",
    "    [\n",
    "        (\n",
    "            \"system\",\n",
    "            \"Bạn là một trợ lý ảo. Hãy trả lời các câu hỏi bằng hết khả năng của bạn bằng Tiếng Việt.\",\n",
    "        ),\n",
    "        MessagesPlaceholder(variable_name=\"messages\"),\n",
    "    ]\n",
    ")"
   ]
  },
  {
   "cell_type": "code",
   "execution_count": 24,
   "metadata": {},
   "outputs": [],
   "source": [
    "workflow = StateGraph(state_schema=MessagesState)\n",
    "\n",
    "\n",
    "def call_model(state: MessagesState):\n",
    "    prompt = prompt_template.invoke(state)\n",
    "    response = model.invoke(prompt)\n",
    "    return {\"messages\": response}\n",
    "\n",
    "\n",
    "workflow.add_edge(START, \"model\")\n",
    "workflow.add_node(\"model\", call_model)\n",
    "\n",
    "memory = MemorySaver()\n",
    "app = workflow.compile(checkpointer=memory)"
   ]
  },
  {
   "cell_type": "code",
   "execution_count": 25,
   "metadata": {},
   "outputs": [
    {
     "name": "stdout",
     "output_type": "stream",
     "text": [
      "==================================\u001b[1m Ai Message \u001b[0m==================================\n",
      "\n",
      "Chia tay là điều không ai muốn, nhất là khi nó khiến người kia tổn thương. Dù bạn đã hết yêu, việc nói lời chia tay vẫn cần sự tế nhị và tôn trọng. Dưới đây là một số cách để giảm thiểu tổn thương cho đối phương:\n",
      "\n",
      "**1. Chọn thời điểm và địa điểm phù hợp:**\n",
      "\n",
      "* **Tránh chia tay qua tin nhắn, điện thoại:** Hãy dành thời gian gặp mặt trực tiếp để thể hiện sự tôn trọng và cho phép đối phương được nhìn thấy cảm xúc của bạn.\n",
      "* **Chọn nơi riêng tư:** Nơi yên tĩnh, không có người xung quanh sẽ giúp cả hai thoải mái chia sẻ cảm xúc.\n",
      "\n",
      "**2. Nói rõ ràng và chân thành:**\n",
      "\n",
      "* **Tránh vòng vo, úp mở:** Hãy thẳng thắn nói rằng bạn đã hết yêu và muốn chia tay.\n",
      "* **Giải thích lý do một cách ngắn gọn:** Không cần phải đi sâu vào chi tiết, chỉ cần giải thích đủ để đối phương hiểu.\n",
      "* **Thể hiện sự tôn trọng:** Nói lời cảm ơn đối phương vì những gì họ đã dành cho bạn.\n",
      "\n",
      "**3. Tránh đổ lỗi:**\n",
      "\n",
      "* **Tập trung vào cảm xúc của bạn:** Thay vì nói \"Em không còn yêu anh nữa\" hãy nói \"Em cảm thấy tình cảm của chúng ta đã thay đổi\".\n",
      "* **Không đổ lỗi cho đối phương:** Hãy nhận trách nhiệm cho quyết định của mình.\n",
      "\n",
      "**4. Chuẩn bị tâm lý cho phản ứng của đối phương:**\n",
      "\n",
      "* **Hãy kiên nhẫn:** Đối phương có thể buồn, giận dữ hoặc thậm chí là không muốn nghe bạn nói. Hãy kiên nhẫn lắng nghe và cho họ thời gian để xử lý cảm xúc.\n",
      "* **Không tranh cãi:** Hãy giữ bình tĩnh và tránh tranh cãi.\n",
      "\n",
      "**5. Sau khi chia tay:**\n",
      "\n",
      "* **Hãy giữ khoảng cách:** Cho cả hai thời gian để bình tĩnh và suy nghĩ.\n",
      "* **Tránh liên lạc:** Tránh liên lạc với đối phương trong thời gian đầu để tránh làm họ thêm đau lòng.\n",
      "\n",
      "**Lưu ý:**\n",
      "\n",
      "* Không có cách nào để chia tay mà không khiến đối phương tổn thương.\n",
      "* Hãy cố gắng thể hiện sự đồng cảm và tôn trọng đối phương.\n",
      "* Hãy nhớ rằng, chia tay là một phần của cuộc sống và bạn sẽ vượt qua được.\n",
      "\n",
      "**Ngoài ra, bạn có thể tham khảo thêm các bài viết về cách chia tay một cách văn minh trên mạng.**\n"
     ]
    }
   ],
   "source": [
    "config = {\"configurable\": {\"thread_id\": \"abc345\"}}\n",
    "query = \"Nếu muốn nói chia tay khi đã hết yêu, làm sao để đối phương không tổn thương? (Vui lòng trả lời bằng tiếng Việt, tiếng anh tao ngu lắm)\"\n",
    "\n",
    "input_messages = [HumanMessage(query)]\n",
    "output = app.invoke({\"messages\": input_messages}, config)\n",
    "output[\"messages\"][-1].pretty_print()"
   ]
  },
  {
   "cell_type": "code",
   "execution_count": 26,
   "metadata": {},
   "outputs": [
    {
     "name": "stdout",
     "output_type": "stream",
     "text": [
      "==================================\u001b[1m Ai Message \u001b[0m==================================\n",
      "\n",
      "Bài hát \"Em của ngày hôm qua\" của Sơn Tùng MTP kể về một mối tình đã qua, một tình yêu đẹp nhưng không thể giữ được. Ca khúc thể hiện nỗi nhớ nhung, tiếc nuối và sự day dứt của người con trai khi phải chia tay người yêu. \n",
      "\n",
      "**Nội dung chính:**\n",
      "\n",
      "* **Nỗi nhớ nhung:** Anh nhớ về những kỷ niệm đẹp của hai người, những lời hứa hẹn, những khoảnh khắc ngọt ngào.\n",
      "* **Sự tiếc nuối:** Anh tiếc nuối vì đã không giữ được tình yêu, vì đã để em ra đi.\n",
      "* **Sự day dứt:** Anh day dứt vì những lỗi lầm trong quá khứ, những điều anh đã làm sai khiến em phải rời xa.\n",
      "* **Sự hi vọng:** Dù biết rằng em đã là quá khứ, nhưng anh vẫn hy vọng một ngày nào đó sẽ gặp lại em.\n",
      "\n",
      "**Thông điệp:**\n",
      "\n",
      "Bài hát là lời tự sự của một người đàn ông đang chìm đắm trong nỗi nhớ nhung và tiếc nuối về một tình yêu đã qua. Nó nhắc nhở chúng ta về giá trị của tình yêu và sự quan trọng của việc trân trọng những gì mình đang có.\n"
     ]
    }
   ],
   "source": [
    "config = {\"configurable\": {\"thread_id\": \"abc345\"}}\n",
    "query = \"Hãy tóm gọn nội dung bài hát Em của ngày hôm qua của Sơn Tùng MTP\"\n",
    "\n",
    "input_messages = [HumanMessage(query)]\n",
    "output = app.invoke({\"messages\": input_messages}, config)\n",
    "output[\"messages\"][-1].pretty_print()"
   ]
  },
  {
   "cell_type": "code",
   "execution_count": 27,
   "metadata": {},
   "outputs": [
    {
     "name": "stdout",
     "output_type": "stream",
     "text": [
      "==================================\u001b[1m Ai Message \u001b[0m==================================\n",
      "\n",
      "Câu hỏi bạn vừa hỏi tôi là: \"Hãy tóm gọn nội dung bài hát Em của ngày hôm qua của Sơn Tùng MTP\".\n"
     ]
    }
   ],
   "source": [
    "config = {\"configurable\": {\"thread_id\": \"abc345\"}}\n",
    "query = \"Câu hỏi mà tôi vừa hỏi bạn là gì vậy\"\n",
    "\n",
    "input_messages = [HumanMessage(query)]\n",
    "output = app.invoke({\"messages\": input_messages}, config)\n",
    "output[\"messages\"][-1].pretty_print()"
   ]
  },
  {
   "cell_type": "markdown",
   "metadata": {},
   "source": [
    "# Using place holder"
   ]
  },
  {
   "cell_type": "code",
   "execution_count": 30,
   "metadata": {},
   "outputs": [],
   "source": [
    "prompt_template = ChatPromptTemplate.from_messages(\n",
    "    [\n",
    "        (\n",
    "            \"system\",\n",
    "            \"You are a helpful assistant. Answer all questions to the best of your ability in {language}.\",\n",
    "        ),\n",
    "        MessagesPlaceholder(variable_name=\"messages\"),\n",
    "    ]\n",
    ")"
   ]
  },
  {
   "cell_type": "code",
   "execution_count": 43,
   "metadata": {},
   "outputs": [],
   "source": [
    "class State(TypedDict):\n",
    "    messages: Annotated[Sequence[BaseMessage], add_messages]\n",
    "    language: str\n",
    "\n",
    "\n",
    "workflow = StateGraph(state_schema=State)\n",
    "\n",
    "\n",
    "def call_model(state: State):\n",
    "    prompt = prompt_template.invoke(state)\n",
    "    response = model.invoke(prompt)\n",
    "    return {\"messages\": [response]}\n",
    "\n",
    "\n",
    "workflow.add_edge(START, \"model\")\n",
    "workflow.add_node(\"model\", call_model)\n",
    "\n",
    "memory = MemorySaver()\n",
    "app = workflow.compile(checkpointer=memory)"
   ]
  },
  {
   "cell_type": "code",
   "execution_count": 44,
   "metadata": {},
   "outputs": [
    {
     "name": "stdout",
     "output_type": "stream",
     "text": [
      "==================================\u001b[1m Ai Message \u001b[0m==================================\n",
      "\n",
      "Mình hiểu bạn đang muốn chia tay nhưng không muốn là người trực tiếp nói ra. Đây là một tình huống khó xử, nhưng mình có thể đưa ra một số gợi ý:\n",
      "\n",
      "* **Nói rõ ràng về cảm xúc của bạn:** Hãy chia sẻ với đối phương rằng bạn cảm thấy mối quan hệ không còn phù hợp nữa, bạn không còn hạnh phúc như trước. Hãy tập trung vào cảm xúc của bạn, tránh đổ lỗi cho đối phương.\n",
      "* **Tạo khoảng cách:** Hãy giảm thiểu thời gian gặp mặt, nhắn tin, gọi điện cho đối phương. Điều này sẽ khiến họ nhận ra sự thay đổi trong mối quan hệ và tự đặt câu hỏi.\n",
      "* **Nói về tương lai:** Hãy chia sẻ với đối phương về những dự định của bạn trong tương lai, những điều bạn muốn theo đuổi, và cho họ thấy rằng những dự định đó không còn phù hợp với mối quan hệ hiện tại.\n",
      "* **Để họ tự đưa ra quyết định:** Hãy cho đối phương thời gian để suy nghĩ và đưa ra quyết định. Đừng ép buộc họ phải chia tay, hãy để họ tự nhận ra rằng mối quan hệ này không còn phù hợp nữa.\n",
      "\n",
      "**Lưu ý:**\n",
      "\n",
      "* Hãy nhớ rằng, việc chia tay là một quyết định khó khăn đối với cả hai người. Hãy thể hiện sự tôn trọng và cảm thông với đối phương.\n",
      "* Hãy chuẩn bị tâm lý cho những phản ứng khác nhau từ đối phương.\n",
      "* Hãy nhớ rằng, bạn có quyền lựa chọn hạnh phúc cho bản thân.\n",
      "\n",
      "Chúc bạn mạnh mẽ và tìm được giải pháp phù hợp nhất cho mình!\n"
     ]
    }
   ],
   "source": [
    "config = {\"configurable\": {\"thread_id\": \"abc456\"}}\n",
    "query = \"Làm sao để nói chia tay nhưng đối phương phải là người chủ động nói\"\n",
    "language = \"Vietnamese\"\n",
    "\n",
    "input_messages = [HumanMessage(query)]\n",
    "output = app.invoke(\n",
    "    {\"messages\": input_messages, \"language\": language},\n",
    "    config,\n",
    ")\n",
    "output[\"messages\"][-1].pretty_print()"
   ]
  },
  {
   "cell_type": "markdown",
   "metadata": {},
   "source": [
    "# Managing Conversation History\n"
   ]
  },
  {
   "cell_type": "code",
   "execution_count": 47,
   "metadata": {},
   "outputs": [],
   "source": [
    "trimmer = trim_messages(\n",
    "    max_tokens=1000,\n",
    "    strategy=\"last\",\n",
    "    token_counter=model,\n",
    "    include_system=True,\n",
    "    allow_partial=False,\n",
    "    start_on=\"human\",\n",
    ")"
   ]
  },
  {
   "cell_type": "code",
   "execution_count": 48,
   "metadata": {},
   "outputs": [],
   "source": [
    "messages = [\n",
    "    SystemMessage(content=\"Bạn là một trợ lý ảo\"),\n",
    "    HumanMessage(content=\"Chào mày, tao là Cường\"),\n",
    "    AIMessage(content=\"Chào bạn.\"),\n",
    "    HumanMessage(content=\"Cho tao biết, VKS là gì vậy?\"),\n",
    "    AIMessage(\n",
    "        content=\"VKS là viết tắt của VngCloud Kubernetes Service, một dịch vụ của VngCloud nhằm cung cấp các cụm Kubernetes đến khách hàng. VKS cung cấp các tính năng như fully managed Kubernetes, autoscaling, monitoring, logging, và nhiều tính năng khác.\"\n",
    "    ),\n",
    "    HumanMessage(content=\"VKS có hỗ trợ CSI không?\"),\n",
    "    AIMessage(\n",
    "        content=\"Có chứ, CSI là viết tắt của Container Storage Interface, một chuẩn giao diện cho phép các hệ thống lưu trữ nền tảng cung cấp dịch vụ lưu trữ cho các ứng dụng chạy trên Kubernetes.\"\n",
    "    ),\n",
    "    HumanMessage(content=\"Làm sao để tạo một PersistentVolumeClaim trên VKS?\"),\n",
    "    AIMessage(\n",
    "        content=\"\"\"Đây là một ví dụ để tạo một PersistentVolumeClaim 20Gi trên VKS\\n```yaml\n",
    "apiVersion: storage.k8s.io/v1\n",
    "kind: StorageClass\n",
    "metadata:\n",
    "  name: my-expansion-storage-class                    # [1] The StorageClass name, CAN be changed\n",
    "provisioner: bs.csi.vngcloud.vn                       # The VNG-CLOUD CSI driver name\n",
    "parameters:\n",
    "  type: vtype-61c3fc5b-f4e9-45b4-8957-8aa7b6029018    # The volume type UUID\n",
    "allowVolumeExpansion: true                            # MUST set this value to turn on volume expansion feature\n",
    "---\n",
    "\n",
    "apiVersion: v1\n",
    "kind: PersistentVolumeClaim\n",
    "metadata:\n",
    "  name: my-expansion-pvc                           # [2] The PVC name, CAN be changed\n",
    "spec:\n",
    "  accessModes:\n",
    "    - ReadWriteOnce\n",
    "  resources:\n",
    "    requests:\n",
    "      storage: 20Gi                                # [3] The PVC size, CAN be changed, this value MUST be in the valid range of the proper volume type\n",
    "  storageClassName: my-expansion-storage-class \n",
    "```\"\"\"\n",
    "    ),\n",
    "    HumanMessage(content=\"Vậy volume 100Gi thì sao?\"),\n",
    "    AIMessage(content=\"yes!\"),\n",
    "]"
   ]
  },
  {
   "cell_type": "code",
   "execution_count": 53,
   "metadata": {},
   "outputs": [
    {
     "data": {
      "text/plain": [
       "[SystemMessage(content='Bạn là một trợ lý ảo', additional_kwargs={}, response_metadata={}, id='e695b379-3c4f-431f-a11a-277f331fb496'),\n",
       " HumanMessage(content='Vậy volume 100Gi thì sao?', additional_kwargs={}, response_metadata={}, id='91091fd5-68a0-4ebe-b6d2-458b93fd4995'),\n",
       " AIMessage(content='yes!', additional_kwargs={}, response_metadata={}, id='f9a888b5-cdb4-4b45-8e67-f008c0cd8206')]"
      ]
     },
     "execution_count": 53,
     "metadata": {},
     "output_type": "execute_result"
    }
   ],
   "source": [
    "trimmer.invoke(messages)"
   ]
  },
  {
   "cell_type": "code",
   "execution_count": 58,
   "metadata": {},
   "outputs": [],
   "source": [
    "workflow = StateGraph(state_schema=State)\n",
    "\n",
    "\n",
    "def call_model(state: State):\n",
    "    # trimmed_messages = trimmer.invoke(state[\"messages\"])\n",
    "    trimmed_messages = state[\"messages\"]\n",
    "    prompt = prompt_template.invoke(\n",
    "        {\"messages\": trimmed_messages, \"language\": state[\"language\"]}\n",
    "    )\n",
    "    response = model.invoke(prompt)\n",
    "    return {\"messages\": [response]}\n",
    "\n",
    "\n",
    "workflow.add_edge(START, \"model\")\n",
    "workflow.add_node(\"model\", call_model)\n",
    "\n",
    "memory = MemorySaver()\n",
    "app = workflow.compile(checkpointer=memory)"
   ]
  },
  {
   "cell_type": "code",
   "execution_count": 59,
   "metadata": {},
   "outputs": [
    {
     "name": "stdout",
     "output_type": "stream",
     "text": [
      "==================================\u001b[1m Ai Message \u001b[0m==================================\n",
      "\n",
      "VKS là viết tắt của **VngCloud Kubernetes Service**, một dịch vụ của VngCloud cung cấp các cụm Kubernetes đến khách hàng. \n",
      "\n",
      "Nói cách khác, VKS là một nền tảng quản lý Kubernetes được quản lý đầy đủ (fully managed) bởi VngCloud. Điều này có nghĩa là VngCloud sẽ xử lý tất cả các khía cạnh của việc vận hành và bảo trì cụm Kubernetes, bao gồm:\n",
      "\n",
      "* **Cài đặt và cấu hình:** VngCloud sẽ cài đặt và cấu hình cụm Kubernetes cho bạn, đảm bảo rằng nó hoạt động trơn tru và an toàn.\n",
      "* **Quản lý:** VngCloud sẽ quản lý cụm Kubernetes của bạn, bao gồm cập nhật phần mềm, bảo trì hệ thống và xử lý các sự cố.\n",
      "* **Bảo mật:** VngCloud sẽ đảm bảo rằng cụm Kubernetes của bạn được bảo mật khỏi các mối đe dọa bên ngoài.\n",
      "* **Khả năng mở rộng:** VngCloud sẽ cho phép bạn dễ dàng mở rộng cụm Kubernetes của bạn khi nhu cầu của bạn thay đổi.\n",
      "\n",
      "VKS cung cấp một loạt các tính năng, bao gồm:\n",
      "\n",
      "* **Fully managed Kubernetes:** VngCloud sẽ xử lý tất cả các khía cạnh của việc vận hành và bảo trì cụm Kubernetes của bạn.\n",
      "* **Autoscaling:** VKS sẽ tự động mở rộng hoặc thu nhỏ cụm Kubernetes của bạn dựa trên nhu cầu của bạn.\n",
      "* **Monitoring:** VKS sẽ theo dõi hiệu suất của cụm Kubernetes của bạn và cung cấp cho bạn các thông tin chi tiết về hoạt động của nó.\n",
      "* **Logging:** VKS sẽ ghi lại tất cả các hoạt động của cụm Kubernetes của bạn, giúp bạn dễ dàng gỡ lỗi và khắc phục sự cố.\n",
      "* **Networking:** VKS cung cấp các tính năng mạng nâng cao, bao gồm mạng dịch vụ, mạng pod và mạng ingress.\n",
      "* **Security:** VKS cung cấp các tính năng bảo mật nâng cao, bao gồm xác thực, ủy quyền và mã hóa.\n",
      "\n",
      "VKS là một giải pháp lý tưởng cho các doanh nghiệp muốn triển khai các ứng dụng container hóa một cách nhanh chóng và dễ dàng. Nó cung cấp một nền tảng mạnh mẽ và đáng tin cậy để chạy các ứng dụng container hóa của bạn, đồng thời cho phép bạn tập trung vào việc phát triển ứng dụng của mình thay vì quản lý cơ sở hạ tầng.\n"
     ]
    }
   ],
   "source": [
    "config = {\"configurable\": {\"thread_id\": \"abc567\"}}\n",
    "query = \"VKS là gì?\"\n",
    "language = \"Vietnamese\"\n",
    "\n",
    "input_messages = messages + [HumanMessage(query)]\n",
    "output = app.invoke(\n",
    "    {\"messages\": input_messages, \"language\": language},\n",
    "    config,\n",
    ")\n",
    "output[\"messages\"][-1].pretty_print()"
   ]
  },
  {
   "cell_type": "code",
   "execution_count": 60,
   "metadata": {},
   "outputs": [
    {
     "name": "stdout",
     "output_type": "stream",
     "text": [
      "==================================\u001b[1m Ai Message \u001b[0m==================================\n",
      "\n",
      "Bạn có thể tạo PersistentVolumeClaim 100Gi trên VKS bằng cách sử dụng file YAML sau:\n",
      "\n",
      "```yaml\n",
      "apiVersion: v1\n",
      "kind: PersistentVolumeClaim\n",
      "metadata:\n",
      "  name: my-pvc\n",
      "spec:\n",
      "  accessModes:\n",
      "    - ReadWriteOnce\n",
      "  resources:\n",
      "    requests:\n",
      "      storage: 100Gi\n",
      "  storageClassName: my-storage-class\n",
      "```\n",
      "\n",
      "**Giải thích:**\n",
      "\n",
      "* **apiVersion:** Phiên bản API của Kubernetes.\n",
      "* **kind:** Loại đối tượng, trong trường hợp này là PersistentVolumeClaim.\n",
      "* **metadata:** Thông tin meta của PersistentVolumeClaim, bao gồm tên.\n",
      "* **spec:** Cấu hình của PersistentVolumeClaim.\n",
      "* **accessModes:** Chế độ truy cập vào PersistentVolumeClaim. Trong trường hợp này là ReadWriteOnce, cho phép một pod duy nhất ghi vào PersistentVolumeClaim.\n",
      "* **resources:** Yêu cầu tài nguyên cho PersistentVolumeClaim.\n",
      "    * **requests:** Yêu cầu dung lượng lưu trữ là 100Gi.\n",
      "* **storageClassName:** Tên của StorageClass được sử dụng để tạo PersistentVolumeClaim.\n",
      "\n",
      "**Lưu ý:**\n",
      "\n",
      "* Bạn cần thay thế `my-storage-class` bằng tên của StorageClass mà bạn muốn sử dụng.\n",
      "* Bạn cần đảm bảo rằng StorageClass được sử dụng hỗ trợ dung lượng lưu trữ 100Gi.\n",
      "\n",
      "**Cách tạo PersistentVolumeClaim:**\n",
      "\n",
      "1. Lưu file YAML trên với tên `my-pvc.yaml`.\n",
      "2. Sử dụng lệnh `kubectl apply -f my-pvc.yaml` để tạo PersistentVolumeClaim.\n",
      "\n",
      "Sau khi tạo PersistentVolumeClaim, bạn có thể sử dụng nó trong Deployment hoặc StatefulSet để lưu trữ dữ liệu cho ứng dụng của bạn.\n"
     ]
    }
   ],
   "source": [
    "config = {\"configurable\": {\"thread_id\": \"abc567\"}}\n",
    "query = \"Tạo PersistentVolumeClaim 100Gi trên VKS\"\n",
    "language = \"Vietnamese\"\n",
    "\n",
    "input_messages = messages + [HumanMessage(query)]\n",
    "output = app.invoke(\n",
    "    {\"messages\": input_messages, \"language\": language},\n",
    "    config,\n",
    ")\n",
    "output[\"messages\"][-1].pretty_print()"
   ]
  },
  {
   "cell_type": "code",
   "execution_count": 61,
   "metadata": {},
   "outputs": [
    {
     "name": "stdout",
     "output_type": "stream",
     "text": [
      "==================================\u001b[1m Ai Message \u001b[0m==================================\n",
      "\n",
      "Câu hỏi bạn vừa hỏi tôi là: \"Vậy volume 100Gi thì sao?\". \n",
      "\n",
      "Bạn muốn hỏi về việc tạo một PersistentVolumeClaim với dung lượng 100Gi trên VKS phải không?\n"
     ]
    }
   ],
   "source": [
    "config = {\"configurable\": {\"thread_id\": \"abc678\"}}\n",
    "query = \"Câu hỏi mà tôi vừa hỏi bạn là gì vậy\"\n",
    "language = \"Vietnamese\"\n",
    "\n",
    "input_messages = messages + [HumanMessage(query)]\n",
    "output = app.invoke(\n",
    "    {\"messages\": input_messages, \"language\": language},\n",
    "    config,\n",
    ")\n",
    "output[\"messages\"][-1].pretty_print()"
   ]
  },
  {
   "cell_type": "markdown",
   "metadata": {},
   "source": [
    "# Streaming"
   ]
  },
  {
   "cell_type": "code",
   "execution_count": 63,
   "metadata": {},
   "outputs": [
    {
     "name": "stdout",
     "output_type": "stream",
     "text": [
      "##| Đoạn rap trong bài hát \"Em của ngày hôm qua\" của Sơn| Tùng MTP:\n",
      "\n",
      "**Verse 2:**\n",
      "\n",
      "(Rap)\n",
      "|Anh nhớ em, em của ngày hôm qua\n",
      "Nụ cười, ánh mắt, nụ hôn, lời hứa\n",
      "Giờ đây đã xa, như| một giấc mơ\n",
      "Để lại trong anh, nỗi nhớ, niềm đau\n",
      "\n",
      "Anh nhớ em, em của ngày hôm qua\n",
      "Tình yêu, hạnh phúc,| giờ đây đã phai nhạt\n",
      "Chỉ còn lại trong anh, một nỗi cô đơn\n",
      "Và những kỷ niệm, như những vết thương lòng\n",
      "\n",
      "Anh nhớ em, em của ngày hôm qua\n",
      "Nhưng em đã đi, để lại anh| một mình\n",
      "Trong đêm tối, anh lạc lối, không tìm thấy em\n",
      "Chỉ còn lại nỗi nhớ, như một lời nguyền\n",
      "\n",
      "**Lưu ý:** Đây là đoạn rap trong bài hát \"Em của ngày hôm qua\" của Sơn| Tùng MTP. \n",
      "|"
     ]
    }
   ],
   "source": [
    "config = {\"configurable\": {\"thread_id\": \"abc789\"}}\n",
    "query = \"Cho tôi xin lời bài hát Em của ngày hôm qua của Sơn Tùng MTP (đoạn rap)\"\n",
    "language = \"Vietnamese\"\n",
    "\n",
    "input_messages = [HumanMessage(query)]\n",
    "for chunk, metadata in app.stream(\n",
    "    {\"messages\": input_messages, \"language\": language},\n",
    "    config,\n",
    "    stream_mode=\"messages\",\n",
    "):\n",
    "    if isinstance(chunk, AIMessage):  # Filter to just model responses\n",
    "        print(chunk.content, end=\"|\")"
   ]
  },
  {
   "cell_type": "code",
   "execution_count": null,
   "metadata": {},
   "outputs": [],
   "source": []
  }
 ],
 "metadata": {
  "kernelspec": {
   "display_name": ".venv",
   "language": "python",
   "name": "python3"
  },
  "language_info": {
   "codemirror_mode": {
    "name": "ipython",
    "version": 3
   },
   "file_extension": ".py",
   "mimetype": "text/x-python",
   "name": "python",
   "nbconvert_exporter": "python",
   "pygments_lexer": "ipython3",
   "version": "3.10.12"
  }
 },
 "nbformat": 4,
 "nbformat_minor": 2
}
