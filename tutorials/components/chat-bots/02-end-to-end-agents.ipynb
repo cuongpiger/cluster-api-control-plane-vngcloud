{
 "cells": [
  {
   "cell_type": "code",
   "execution_count": 1,
   "metadata": {},
   "outputs": [],
   "source": [
    "%load_ext autoreload\n",
    "%autoreload 2"
   ]
  },
  {
   "cell_type": "markdown",
   "metadata": {},
   "source": [
    "# Import dependencies\n"
   ]
  },
  {
   "cell_type": "code",
   "execution_count": 2,
   "metadata": {},
   "outputs": [
    {
     "name": "stderr",
     "output_type": "stream",
     "text": [
      "/home/cuongdm/git-cuongpiger/langchain-labs/.venv/lib/python3.10/site-packages/tqdm/auto.py:21: TqdmWarning: IProgress not found. Please update jupyter and ipywidgets. See https://ipywidgets.readthedocs.io/en/stable/user_install.html\n",
      "  from .autonotebook import tqdm as notebook_tqdm\n"
     ]
    }
   ],
   "source": [
    "import os\n",
    "\n",
    "from langchain_google_vertexai import ChatVertexAI, VertexAIEmbeddings\n",
    "from langchain_core.messages import HumanMessage, SystemMessage, AIMessage, BaseMessage\n",
    "from langchain_core.documents import Document\n",
    "from langchain_core.prompts import ChatPromptTemplate, MessagesPlaceholder\n",
    "from langchain_community.document_loaders import PyPDFLoader\n",
    "from langchain_text_splitters import RecursiveCharacterTextSplitter\n",
    "from langchain_core.vectorstores import InMemoryVectorStore\n",
    "from langgraph.checkpoint.memory import MemorySaver\n",
    "from langchain_core.runnables import chain\n",
    "from langgraph.prebuilt import create_react_agent\n",
    "from langchain_core.utils.function_calling import tool_example_to_messages\n",
    "from pydantic import BaseModel, Field\n",
    "from langchain_community.tools import DuckDuckGoSearchRun\n",
    "from enum import Enum\n",
    "from langgraph.graph.message import add_messages\n",
    "from langchain_core.messages import trim_messages\n",
    "from langchain_google_genai import ChatGoogleGenerativeAI\n",
    "\n",
    "\n",
    "from IPython.display import display, Markdown, Latex\n",
    "\n",
    "from typing_extensions import Annotated, TypedDict\n",
    "from typing import List, Optional, Sequence"
   ]
  },
  {
   "cell_type": "markdown",
   "metadata": {},
   "source": [
    "# Configure Google credentials\n",
    "\n",
    "- **NOTE**: Remember change the `GOOGLE_APPLICATION_CREDENTIALS` to the path of your own Google credentials file.\n"
   ]
  },
  {
   "cell_type": "code",
   "execution_count": 3,
   "metadata": {},
   "outputs": [],
   "source": [
    "os.environ[\"GOOGLE_APPLICATION_CREDENTIALS\"] = (\n",
    "    \"/home/cuongdm/git-cuongpiger/secret/work/vngcloud/ai-platform/vertex-ai-credential.json\"\n",
    ")"
   ]
  },
  {
   "cell_type": "markdown",
   "metadata": {},
   "source": [
    "# Create the agents"
   ]
  },
  {
   "cell_type": "code",
   "execution_count": 4,
   "metadata": {},
   "outputs": [],
   "source": [
    "# Create the agent\n",
    "memory = MemorySaver()\n",
    "model = ChatVertexAI(temperature=0, model=\"gemini-1.5-flash\")\n",
    "search = DuckDuckGoSearchRun(max_results=2)\n",
    "tools = [search]\n",
    "agent_executor = create_react_agent(model, tools, checkpointer=memory)"
   ]
  },
  {
   "cell_type": "markdown",
   "metadata": {},
   "source": [
    "# Use agents"
   ]
  },
  {
   "cell_type": "code",
   "execution_count": 5,
   "metadata": {},
   "outputs": [
    {
     "name": "stdout",
     "output_type": "stream",
     "text": [
      "{'agent': {'messages': [AIMessage(content='Xin chào! Thành phố Hồ Chí Minh là một thành phố tuyệt vời. Bạn thích điều gì nhất ở đây? 😊 \\n', additional_kwargs={}, response_metadata={'is_blocked': False, 'safety_ratings': [{'category': 'HARM_CATEGORY_HATE_SPEECH', 'probability_label': 'NEGLIGIBLE', 'probability_score': 0.03410044312477112, 'blocked': False, 'severity': 'HARM_SEVERITY_NEGLIGIBLE', 'severity_score': 0.05261888727545738}, {'category': 'HARM_CATEGORY_DANGEROUS_CONTENT', 'probability_label': 'NEGLIGIBLE', 'probability_score': 0.0259573832154274, 'blocked': False, 'severity': 'HARM_SEVERITY_NEGLIGIBLE', 'severity_score': 0.09009324759244919}, {'category': 'HARM_CATEGORY_HARASSMENT', 'probability_label': 'NEGLIGIBLE', 'probability_score': 0.07263684272766113, 'blocked': False, 'severity': 'HARM_SEVERITY_NEGLIGIBLE', 'severity_score': 0.05500539019703865}, {'category': 'HARM_CATEGORY_SEXUALLY_EXPLICIT', 'probability_label': 'NEGLIGIBLE', 'probability_score': 0.05921032652258873, 'blocked': False, 'severity': 'HARM_SEVERITY_NEGLIGIBLE', 'severity_score': 0.06560491770505905}], 'usage_metadata': {'prompt_token_count': 53, 'candidates_token_count': 26, 'total_token_count': 79, 'cached_content_token_count': 0}, 'finish_reason': 'STOP', 'avg_logprobs': -0.20459356674781212}, id='run-ec374e6d-4d9a-4490-875e-5bd6de55b799-0', usage_metadata={'input_tokens': 53, 'output_tokens': 26, 'total_tokens': 79})]}}\n",
      "----\n"
     ]
    }
   ],
   "source": [
    "# Use the agent\n",
    "config = {\"configurable\": {\"thread_id\": \"abc123\"}}\n",
    "for chunk in agent_executor.stream(\n",
    "    {\n",
    "        \"messages\": [\n",
    "            HumanMessage(\n",
    "                content=\"Xin chào, hiện tại tôi đang sống ở thành phố Hồ Chí Minh\"\n",
    "            )\n",
    "        ]\n",
    "    },\n",
    "    config,\n",
    "):\n",
    "    print(chunk)\n",
    "    print(\"----\")"
   ]
  },
  {
   "cell_type": "code",
   "execution_count": 6,
   "metadata": {},
   "outputs": [
    {
     "name": "stdout",
     "output_type": "stream",
     "text": [
      "{'agent': {'messages': [AIMessage(content='Rất tiếc, tôi không thể cung cấp thông tin thời tiết hiện tại.  Bạn có thể thử tìm kiếm trên Google hoặc xem dự báo thời tiết trên điện thoại của bạn. 😊 \\n', additional_kwargs={}, response_metadata={'is_blocked': False, 'safety_ratings': [{'category': 'HARM_CATEGORY_HATE_SPEECH', 'probability_label': 'NEGLIGIBLE', 'probability_score': 0.020964214578270912, 'blocked': False, 'severity': 'HARM_SEVERITY_NEGLIGIBLE', 'severity_score': 0.06187598779797554}, {'category': 'HARM_CATEGORY_DANGEROUS_CONTENT', 'probability_label': 'NEGLIGIBLE', 'probability_score': 0.04813668131828308, 'blocked': False, 'severity': 'HARM_SEVERITY_NEGLIGIBLE', 'severity_score': 0.04535272344946861}, {'category': 'HARM_CATEGORY_HARASSMENT', 'probability_label': 'NEGLIGIBLE', 'probability_score': 0.1285252720117569, 'blocked': False, 'severity': 'HARM_SEVERITY_NEGLIGIBLE', 'severity_score': 0.05033065751194954}, {'category': 'HARM_CATEGORY_SEXUALLY_EXPLICIT', 'probability_label': 'NEGLIGIBLE', 'probability_score': 0.03622008487582207, 'blocked': False, 'severity': 'HARM_SEVERITY_NEGLIGIBLE', 'severity_score': 0.031143877655267715}], 'usage_metadata': {'prompt_token_count': 94, 'candidates_token_count': 41, 'total_token_count': 135, 'cached_content_token_count': 0}, 'finish_reason': 'STOP', 'avg_logprobs': -0.15122175216674805}, id='run-02d54477-1694-4ea2-92ba-fb2b8cd1b4bd-0', usage_metadata={'input_tokens': 94, 'output_tokens': 41, 'total_tokens': 135})]}}\n",
      "----\n"
     ]
    }
   ],
   "source": [
    "for chunk in agent_executor.stream(\n",
    "    {\n",
    "        \"messages\": [\n",
    "            HumanMessage(\n",
    "                content=\"Hiện tại thời tiết ở thành phố Hồ Chí Minh đang như thế nào?\"\n",
    "            )\n",
    "        ]\n",
    "    },\n",
    "    config,\n",
    "):\n",
    "    print(chunk)\n",
    "    print(\"----\")"
   ]
  },
  {
   "cell_type": "markdown",
   "metadata": {},
   "source": [
    "# Define tools"
   ]
  },
  {
   "cell_type": "code",
   "execution_count": 7,
   "metadata": {},
   "outputs": [],
   "source": [
    "search = DuckDuckGoSearchRun(max_results=2)\n",
    "search_results = search.invoke(\"Thời tiết thành phố Hồ Chí Minh như thế nào?\")"
   ]
  },
  {
   "cell_type": "code",
   "execution_count": 8,
   "metadata": {},
   "outputs": [
    {
     "data": {
      "text/plain": [
       "'Thời Tiết TP.HCM cập nhật diễn biến thời tiết tại khắp các quận, huyện Thành phố Hồ Chí Minh nhanh chóng, chính xác và chi tiết nhất. Ngoài ra, trang web tổng hợp và chia sẻ những thông tin hữu ích về thời tiết, du lịch, ẩm thực, và văn hóa ở TP.HCM. Web site nchmf.gov.vn - web site thông tin dự báo thời tiết biển, đất liền 24h,48h,72h, sản phẩm mô hình, ảnh Radar, ảnh vệ tinh. Giới thiệu. ... Thời tiết Hồ Chí Minh. Thời tiết hiện tại. Cập nhật: 1h 20/01/2025. Dự báo thời tiết ngày mai tại Hồ Chí Minh. Cập nhật thông tin nhiệt độ, độ ẩm, lượng mưa chính xác và chi tiết nhất tại khu vực Hồ Chí Minh ... Tỉnh - Thành phố Đông Bắc Bộ ... Tác hại của tia Uv như thế nào đối với chúng ta hay chưa. Tình hình dự báo thời tiết, nhiệt độ ở Hồ Chí Minh hôm nay, ngày mai và các ngày tới. ... Giờ địa phương: Tỉnh/Thành phố. ... Dự báo thời tiết Hồ Chí Minh những ngày tới. Ngày. Đêm. Chủ nhật 19/01. mây thưa 4.95 km/h. 24° / 35° ... Dự báo thời tiết 10 ngày tới tại Hồ Chí Minh. Thông tin mười ngày tiếp theo về nhiệt độ, độ ẩm, lượng mưa tại khu vực Hồ Chí Minh - Website: Thoitiet.vn Thành phố của bạn: Hà Nội Thay đổi'"
      ]
     },
     "execution_count": 8,
     "metadata": {},
     "output_type": "execute_result"
    }
   ],
   "source": [
    "search_results"
   ]
  },
  {
   "cell_type": "code",
   "execution_count": 9,
   "metadata": {},
   "outputs": [],
   "source": [
    "tools = [search]"
   ]
  },
  {
   "cell_type": "code",
   "execution_count": 10,
   "metadata": {},
   "outputs": [],
   "source": [
    "model = ChatVertexAI(temperature=0, model=\"gemini-1.5-flash\")"
   ]
  },
  {
   "cell_type": "code",
   "execution_count": 11,
   "metadata": {},
   "outputs": [],
   "source": [
    "model_with_tools = model.bind_tools(tools)"
   ]
  },
  {
   "cell_type": "code",
   "execution_count": 12,
   "metadata": {},
   "outputs": [
    {
     "name": "stdout",
     "output_type": "stream",
     "text": [
      "ContentString: Xin chào! Thành phố Hồ Chí Minh là một thành phố tuyệt vời. Bạn thích điều gì nhất ở đây? 😊 \n",
      "\n",
      "ToolCalls: []\n"
     ]
    }
   ],
   "source": [
    "response = model_with_tools.invoke(\n",
    "    [HumanMessage(content=\"Xin chào, hiện tại tôi đang sống ở thành phố Hồ Chí Minh\")]\n",
    ")\n",
    "\n",
    "print(f\"ContentString: {response.content}\")\n",
    "print(f\"ToolCalls: {response.tool_calls}\")"
   ]
  },
  {
   "cell_type": "code",
   "execution_count": 13,
   "metadata": {},
   "outputs": [
    {
     "name": "stdout",
     "output_type": "stream",
     "text": [
      "ContentString: \n",
      "ToolCalls: [{'name': 'duckduckgo_search', 'args': {'query': 'weather in Ho Chi Minh City'}, 'id': 'd2b240c1-87b1-4ab6-990a-24fed1722a8c', 'type': 'tool_call'}]\n"
     ]
    }
   ],
   "source": [
    "response = model_with_tools.invoke(\n",
    "    [HumanMessage(content=\"Thời tiết của thành phố Hồ Chí Minh hiện tại như thế nào?\")]\n",
    ")\n",
    "\n",
    "print(f\"ContentString: {response.content}\")\n",
    "print(f\"ToolCalls: {response.tool_calls}\")"
   ]
  },
  {
   "cell_type": "code",
   "execution_count": 20,
   "metadata": {},
   "outputs": [],
   "source": [
    "agent_executor = create_react_agent(model, tools)"
   ]
  },
  {
   "cell_type": "code",
   "execution_count": 21,
   "metadata": {},
   "outputs": [],
   "source": [
    "response = agent_executor.invoke(\n",
    "    {\n",
    "        \"messages\": [\n",
    "            HumanMessage(\n",
    "                content=\"Thời tiết của thành phố Hồ Chí Minh hiện tại như thế nào?\"\n",
    "            )\n",
    "        ]\n",
    "    }\n",
    ")"
   ]
  },
  {
   "cell_type": "code",
   "execution_count": 16,
   "metadata": {},
   "outputs": [
    {
     "data": {
      "text/plain": [
       "[HumanMessage(content='Thời tiết của thành phố Hồ Chí Minh hiện tại như thế nào?', additional_kwargs={}, response_metadata={}, id='ed45d351-ae0b-45f0-9b99-7ee1bd3ded07'),\n",
       " AIMessage(content='', additional_kwargs={'function_call': {'name': 'duckduckgo_search', 'arguments': '{\"query\": \"weather in Ho Chi Minh City\"}'}}, response_metadata={'is_blocked': False, 'safety_ratings': [{'category': 'HARM_CATEGORY_HATE_SPEECH', 'probability_label': 'NEGLIGIBLE', 'probability_score': 0.07470703125, 'blocked': False, 'severity': 'HARM_SEVERITY_NEGLIGIBLE', 'severity_score': 0.09033203125}, {'category': 'HARM_CATEGORY_DANGEROUS_CONTENT', 'probability_label': 'NEGLIGIBLE', 'probability_score': 0.130859375, 'blocked': False, 'severity': 'HARM_SEVERITY_NEGLIGIBLE', 'severity_score': 0.1630859375}, {'category': 'HARM_CATEGORY_HARASSMENT', 'probability_label': 'NEGLIGIBLE', 'probability_score': 0.103515625, 'blocked': False, 'severity': 'HARM_SEVERITY_NEGLIGIBLE', 'severity_score': 0.08251953125}, {'category': 'HARM_CATEGORY_SEXUALLY_EXPLICIT', 'probability_label': 'NEGLIGIBLE', 'probability_score': 0.046630859375, 'blocked': False, 'severity': 'HARM_SEVERITY_NEGLIGIBLE', 'severity_score': 0.0419921875}], 'usage_metadata': {'prompt_token_count': 53, 'candidates_token_count': 12, 'total_token_count': 65, 'cached_content_token_count': 0}, 'finish_reason': 'STOP', 'avg_logprobs': -0.02021650845805804}, id='run-6c5c72e9-0b8d-4f8f-beaa-c084815c90a5-0', tool_calls=[{'name': 'duckduckgo_search', 'args': {'query': 'weather in Ho Chi Minh City'}, 'id': 'ceb39213-848d-4e6b-8268-a85495c3da80', 'type': 'tool_call'}], usage_metadata={'input_tokens': 53, 'output_tokens': 12, 'total_tokens': 65}),\n",
       " ToolMessage(content=\"Get the current weather conditions and 7-day forecast for Ho Chi Minh City, Vietnam. Learn about the tropical wet and dry climate, monthly averages, and historical weather data. Today, in Ho Chi Minh City, cloudy weather is anticipated. The temperature will be between the lowest temperature of 22°C (71.6°F) and the highest temperature of 32°C (89.6°F). The hottest part of the day will be at 14h and 15h. See the links below the 12-day Ho Chi Minh City weather forecast table for other cities and towns nearby along with weather conditions for local outdoor activities. Ho Chi Minh City is 11 m above sea level and located at 10.77° N 106.72° E. Ho Chi Minh City has a population of 3467331. Local time in Ho Chi Minh City is +07. Ho Chi Minh City Weather Forecasts. Weather Underground provides local & long-range weather forecasts, weatherreports, maps & tropical weather conditions for the Ho Chi Minh City area. Thành phố Hồ Chí Minh (Ho Chi Minh City) ☀ Weather forecast for 10 days, information from meteorological stations, webcams, sunrise and sunset, wind and precipitation maps for this place ... Thành phố Hồ Chí Minh (Ho Chi Minh City) Vietnam / Lat.: 10°49'N / Lon.: 106°37'E / Altitude: 0 m\", name='duckduckgo_search', id='ec760a63-3b3e-4b49-87d9-b9d8c7efc2f3', tool_call_id='ceb39213-848d-4e6b-8268-a85495c3da80'),\n",
       " AIMessage(content='Thời tiết ở Thành phố Hồ Chí Minh hiện tại có mây. Nhiệt độ dao động từ 22°C đến 32°C. \\n', additional_kwargs={}, response_metadata={'is_blocked': False, 'safety_ratings': [{'category': 'HARM_CATEGORY_HATE_SPEECH', 'probability_label': 'NEGLIGIBLE', 'probability_score': 0.0062898918986320496, 'blocked': False, 'severity': 'HARM_SEVERITY_NEGLIGIBLE', 'severity_score': 0.03258975222706795}, {'category': 'HARM_CATEGORY_DANGEROUS_CONTENT', 'probability_label': 'NEGLIGIBLE', 'probability_score': 0.08509916067123413, 'blocked': False, 'severity': 'HARM_SEVERITY_NEGLIGIBLE', 'severity_score': 0.07477004081010818}, {'category': 'HARM_CATEGORY_HARASSMENT', 'probability_label': 'NEGLIGIBLE', 'probability_score': 0.02194826677441597, 'blocked': False, 'severity': 'HARM_SEVERITY_NEGLIGIBLE', 'severity_score': 0.010328171774744987}, {'category': 'HARM_CATEGORY_SEXUALLY_EXPLICIT', 'probability_label': 'NEGLIGIBLE', 'probability_score': 0.022977443411946297, 'blocked': False, 'severity': 'HARM_SEVERITY_NEGLIGIBLE', 'severity_score': 0.023689482361078262}], 'usage_metadata': {'prompt_token_count': 389, 'candidates_token_count': 33, 'total_token_count': 422, 'cached_content_token_count': 0}, 'finish_reason': 'STOP', 'avg_logprobs': -0.08875586769797585}, id='run-b9e3c236-a4cd-4a6e-aeeb-73ceb67ae4da-0', usage_metadata={'input_tokens': 389, 'output_tokens': 33, 'total_tokens': 422})]"
      ]
     },
     "execution_count": 16,
     "metadata": {},
     "output_type": "execute_result"
    }
   ],
   "source": [
    "response[\"messages\"]"
   ]
  },
  {
   "cell_type": "code",
   "execution_count": 22,
   "metadata": {},
   "outputs": [
    {
     "name": "stdout",
     "output_type": "stream",
     "text": [
      "{'agent': {'messages': [AIMessage(content='', additional_kwargs={'function_call': {'name': 'duckduckgo_search', 'arguments': '{\"query\": \"weather in Ho Chi Minh City\"}'}}, response_metadata={'is_blocked': False, 'safety_ratings': [{'category': 'HARM_CATEGORY_HATE_SPEECH', 'probability_label': 'NEGLIGIBLE', 'probability_score': 0.07470703125, 'blocked': False, 'severity': 'HARM_SEVERITY_NEGLIGIBLE', 'severity_score': 0.09033203125}, {'category': 'HARM_CATEGORY_DANGEROUS_CONTENT', 'probability_label': 'NEGLIGIBLE', 'probability_score': 0.130859375, 'blocked': False, 'severity': 'HARM_SEVERITY_NEGLIGIBLE', 'severity_score': 0.1630859375}, {'category': 'HARM_CATEGORY_HARASSMENT', 'probability_label': 'NEGLIGIBLE', 'probability_score': 0.103515625, 'blocked': False, 'severity': 'HARM_SEVERITY_NEGLIGIBLE', 'severity_score': 0.08251953125}, {'category': 'HARM_CATEGORY_SEXUALLY_EXPLICIT', 'probability_label': 'NEGLIGIBLE', 'probability_score': 0.046630859375, 'blocked': False, 'severity': 'HARM_SEVERITY_NEGLIGIBLE', 'severity_score': 0.0419921875}], 'usage_metadata': {'prompt_token_count': 53, 'candidates_token_count': 12, 'total_token_count': 65, 'cached_content_token_count': 0}, 'finish_reason': 'STOP', 'avg_logprobs': -0.02021650845805804}, id='run-de9ceccd-186d-4600-85b3-2428295d3760-0', tool_calls=[{'name': 'duckduckgo_search', 'args': {'query': 'weather in Ho Chi Minh City'}, 'id': 'a16cb30d-43c0-4be1-9e50-ffe756dd26b1', 'type': 'tool_call'}], usage_metadata={'input_tokens': 53, 'output_tokens': 12, 'total_tokens': 65})]}}\n",
      "----\n",
      "{'tools': {'messages': [ToolMessage(content=\"Get the current weather conditions and 7-day forecast for Ho Chi Minh City, Vietnam. Learn about the tropical wet and dry climate, monthly averages, and historical weather data. Today, in Ho Chi Minh City, cloudy weather is anticipated. The temperature will be between the lowest temperature of 22°C (71.6°F) and the highest temperature of 32°C (89.6°F). The hottest part of the day will be at 14h and 15h. See the links below the 12-day Ho Chi Minh City weather forecast table for other cities and towns nearby along with weather conditions for local outdoor activities. Ho Chi Minh City is 11 m above sea level and located at 10.77° N 106.72° E. Ho Chi Minh City has a population of 3467331. Local time in Ho Chi Minh City is +07. Ho Chi Minh City Weather Forecasts. Weather Underground provides local & long-range weather forecasts, weatherreports, maps & tropical weather conditions for the Ho Chi Minh City area. Thành phố Hồ Chí Minh (Ho Chi Minh City) ☀ Weather forecast for 10 days, information from meteorological stations, webcams, sunrise and sunset, wind and precipitation maps for this place ... Thành phố Hồ Chí Minh (Ho Chi Minh City) Vietnam / Lat.: 10°49'N / Lon.: 106°37'E / Altitude: 0 m\", name='duckduckgo_search', id='ee86ef42-e49a-46ef-964f-ffd3dc930b77', tool_call_id='a16cb30d-43c0-4be1-9e50-ffe756dd26b1')]}}\n",
      "----\n",
      "{'agent': {'messages': [AIMessage(content='Thời tiết ở Thành phố Hồ Chí Minh hiện tại có mây. Nhiệt độ dao động từ 22°C đến 32°C. \\n', additional_kwargs={}, response_metadata={'is_blocked': False, 'safety_ratings': [{'category': 'HARM_CATEGORY_HATE_SPEECH', 'probability_label': 'NEGLIGIBLE', 'probability_score': 0.0062898918986320496, 'blocked': False, 'severity': 'HARM_SEVERITY_NEGLIGIBLE', 'severity_score': 0.03258975222706795}, {'category': 'HARM_CATEGORY_DANGEROUS_CONTENT', 'probability_label': 'NEGLIGIBLE', 'probability_score': 0.08509916067123413, 'blocked': False, 'severity': 'HARM_SEVERITY_NEGLIGIBLE', 'severity_score': 0.07477004081010818}, {'category': 'HARM_CATEGORY_HARASSMENT', 'probability_label': 'NEGLIGIBLE', 'probability_score': 0.02194826677441597, 'blocked': False, 'severity': 'HARM_SEVERITY_NEGLIGIBLE', 'severity_score': 0.010328171774744987}, {'category': 'HARM_CATEGORY_SEXUALLY_EXPLICIT', 'probability_label': 'NEGLIGIBLE', 'probability_score': 0.022977443411946297, 'blocked': False, 'severity': 'HARM_SEVERITY_NEGLIGIBLE', 'severity_score': 0.023689482361078262}], 'usage_metadata': {'prompt_token_count': 389, 'candidates_token_count': 33, 'total_token_count': 422, 'cached_content_token_count': 0}, 'finish_reason': 'STOP', 'avg_logprobs': -0.08875586769797585}, id='run-3ef25ac2-cab0-41e1-ad5e-b186b24f58ec-0', usage_metadata={'input_tokens': 389, 'output_tokens': 33, 'total_tokens': 422})]}}\n",
      "----\n"
     ]
    }
   ],
   "source": [
    "for chunk in agent_executor.stream(\n",
    "    {\n",
    "        \"messages\": [\n",
    "            HumanMessage(\n",
    "                content=\"Thời tiết của thành phố Hồ Chí Minh hiện tại như thế nào?\"\n",
    "            )\n",
    "        ]\n",
    "    }\n",
    "):\n",
    "    print(chunk)\n",
    "    print(\"----\")"
   ]
  },
  {
   "cell_type": "markdown",
   "metadata": {},
   "source": [
    "# Streaming tokens"
   ]
  },
  {
   "cell_type": "code",
   "execution_count": 23,
   "metadata": {},
   "outputs": [
    {
     "name": "stdout",
     "output_type": "stream",
     "text": [
      "--\n",
      "Starting tool: duckduckgo_search with inputs: {'query': 'weather in Ho Chi Minh City'}\n",
      "Done tool: duckduckgo_search\n",
      "Tool output was: content=\"Today, in Ho Chi Minh City, cloudy weather is anticipated. The temperature will be between the lowest temperature of 22°C (71.6°F) and the highest temperature of 32°C (89.6°F). The hottest part of the day will be at 14h and 15h. Get the current weather conditions and 7-day forecast for Ho Chi Minh City, Vietnam. Learn about the tropical wet and dry climate, monthly averages, and historical weather data. See the links below the 12-day Ho Chi Minh City weather forecast table for other cities and towns nearby along with weather conditions for local outdoor activities. Ho Chi Minh City is 11 m above sea level and located at 10.77° N 106.72° E. Ho Chi Minh City has a population of 3467331. Local time in Ho Chi Minh City is +07. Ho Chi Minh City Weather Forecasts. Weather Underground provides local & long-range weather forecasts, weatherreports, maps & tropical weather conditions for the Ho Chi Minh City area. Thành phố Hồ Chí Minh (Ho Chi Minh City) ☀ Weather forecast for 10 days, information from meteorological stations, webcams, sunrise and sunset, wind and precipitation maps for this place ... Thành phố Hồ Chí Minh (Ho Chi Minh City) Vietnam / Lat.: 10°49'N / Lon.: 106°37'E / Altitude: 0 m\" name='duckduckgo_search' tool_call_id='2f22f06c-928a-4e9f-aa7e-bf95c07db5f4'\n",
      "--\n",
      "Thời tiết| ở Thành phố Hồ Chí Minh hiện tại có mây. Nhiệt độ dự kiến| ​​sẽ dao động từ 22°C (71.6°|F) đến 32°C (89.6°F).  Nóng nhất trong ngày là lúc 14h và 15h. |\n",
      "|"
     ]
    }
   ],
   "source": [
    "async for event in agent_executor.astream_events(\n",
    "    {\n",
    "        \"messages\": [\n",
    "            HumanMessage(\n",
    "                content=\"Thời tiết của thành phố Hồ Chí Minh hiện tại như thế nào?\"\n",
    "            )\n",
    "        ]\n",
    "    },\n",
    "    version=\"v1\",\n",
    "):\n",
    "    kind = event[\"event\"]\n",
    "    if kind == \"on_chain_start\":\n",
    "        if (\n",
    "            event[\"name\"] == \"Agent\"\n",
    "        ):  # Was assigned when creating the agent with `.with_config({\"run_name\": \"Agent\"})`\n",
    "            print(\n",
    "                f\"Starting agent: {event['name']} with input: {event['data'].get('input')}\"\n",
    "            )\n",
    "    elif kind == \"on_chain_end\":\n",
    "        if (\n",
    "            event[\"name\"] == \"Agent\"\n",
    "        ):  # Was assigned when creating the agent with `.with_config({\"run_name\": \"Agent\"})`\n",
    "            print()\n",
    "            print(\"--\")\n",
    "            print(\n",
    "                f\"Done agent: {event['name']} with output: {event['data'].get('output')['output']}\"\n",
    "            )\n",
    "    if kind == \"on_chat_model_stream\":\n",
    "        content = event[\"data\"][\"chunk\"].content\n",
    "        if content:\n",
    "            # Empty content in the context of OpenAI means\n",
    "            # that the model is asking for a tool to be invoked.\n",
    "            # So we only print non-empty content\n",
    "            print(content, end=\"|\")\n",
    "    elif kind == \"on_tool_start\":\n",
    "        print(\"--\")\n",
    "        print(\n",
    "            f\"Starting tool: {event['name']} with inputs: {event['data'].get('input')}\"\n",
    "        )\n",
    "    elif kind == \"on_tool_end\":\n",
    "        print(f\"Done tool: {event['name']}\")\n",
    "        print(f\"Tool output was: {event['data'].get('output')}\")\n",
    "        print(\"--\")"
   ]
  },
  {
   "cell_type": "markdown",
   "metadata": {},
   "source": [
    "# Adding in memory"
   ]
  },
  {
   "cell_type": "code",
   "execution_count": 24,
   "metadata": {},
   "outputs": [],
   "source": [
    "memory = MemorySaver()"
   ]
  },
  {
   "cell_type": "code",
   "execution_count": 25,
   "metadata": {},
   "outputs": [],
   "source": [
    "agent_executor = create_react_agent(model, tools, checkpointer=memory)\n",
    "\n",
    "config = {\"configurable\": {\"thread_id\": \"abc123\"}}"
   ]
  },
  {
   "cell_type": "code",
   "execution_count": 26,
   "metadata": {},
   "outputs": [
    {
     "name": "stdout",
     "output_type": "stream",
     "text": [
      "{'agent': {'messages': [AIMessage(content='', additional_kwargs={'function_call': {'name': 'duckduckgo_search', 'arguments': '{\"query\": \"weather in Ho Chi Minh City\"}'}}, response_metadata={'is_blocked': False, 'safety_ratings': [{'category': 'HARM_CATEGORY_HATE_SPEECH', 'probability_label': 'NEGLIGIBLE', 'probability_score': 0.083984375, 'blocked': False, 'severity': 'HARM_SEVERITY_NEGLIGIBLE', 'severity_score': 0.09130859375}, {'category': 'HARM_CATEGORY_DANGEROUS_CONTENT', 'probability_label': 'NEGLIGIBLE', 'probability_score': 0.12353515625, 'blocked': False, 'severity': 'HARM_SEVERITY_NEGLIGIBLE', 'severity_score': 0.1630859375}, {'category': 'HARM_CATEGORY_HARASSMENT', 'probability_label': 'NEGLIGIBLE', 'probability_score': 0.103515625, 'blocked': False, 'severity': 'HARM_SEVERITY_NEGLIGIBLE', 'severity_score': 0.083984375}, {'category': 'HARM_CATEGORY_SEXUALLY_EXPLICIT', 'probability_label': 'NEGLIGIBLE', 'probability_score': 0.04736328125, 'blocked': False, 'severity': 'HARM_SEVERITY_NEGLIGIBLE', 'severity_score': 0.04541015625}], 'usage_metadata': {'prompt_token_count': 52, 'candidates_token_count': 12, 'total_token_count': 64, 'cached_content_token_count': 0}, 'finish_reason': 'STOP', 'avg_logprobs': -0.033142462372779846}, id='run-5659c8ab-bd0c-4e9a-aeee-173fa0d8868a-0', tool_calls=[{'name': 'duckduckgo_search', 'args': {'query': 'weather in Ho Chi Minh City'}, 'id': 'd7cb1c5f-63ef-4882-8bed-0ae6295bfee7', 'type': 'tool_call'}], usage_metadata={'input_tokens': 52, 'output_tokens': 12, 'total_tokens': 64})]}}\n",
      "----\n",
      "{'tools': {'messages': [ToolMessage(content='Get the current weather conditions and 7-day forecast for Ho Chi Minh City, Vietnam. Learn about the tropical wet and dry climate, monthly averages, and historical weather data. See the links below the 12-day Ho Chi Minh City weather forecast table for other cities and towns nearby along with weather conditions for local outdoor activities. Ho Chi Minh City is 11 m above sea level and located at 10.77° N 106.72° E. Ho Chi Minh City has a population of 3467331. Local time in Ho Chi Minh City is +07. Today, in Ho Chi Minh City, cloudy weather is anticipated. The temperature will be between the lowest temperature of 22°C (71.6°F) and the highest temperature of 32°C (89.6°F). The hottest part of the day will be at 14h and 15h. Ho Chi Minh City Weather Forecasts. Weather Underground provides local & long-range weather forecasts, weatherreports, maps & tropical weather conditions for the Ho Chi Minh City area. Ho Chi Minh City 7 day weather forecast including weather warnings, temperature, rain, wind, visibility, humidity and UV', name='duckduckgo_search', id='761cad74-2e28-43cd-bb85-58458bd3075f', tool_call_id='d7cb1c5f-63ef-4882-8bed-0ae6295bfee7')]}}\n",
      "----\n",
      "{'agent': {'messages': [AIMessage(content='Hôm nay ở Thành phố Hồ Chí Minh, trời nhiều mây. Nhiệt độ dao động từ 22°C đến 32°C. \\n', additional_kwargs={}, response_metadata={'is_blocked': False, 'safety_ratings': [{'category': 'HARM_CATEGORY_HATE_SPEECH', 'probability_label': 'NEGLIGIBLE', 'probability_score': 0.01744246669113636, 'blocked': False, 'severity': 'HARM_SEVERITY_NEGLIGIBLE', 'severity_score': 0.06853760033845901}, {'category': 'HARM_CATEGORY_DANGEROUS_CONTENT', 'probability_label': 'NEGLIGIBLE', 'probability_score': 0.0769609585404396, 'blocked': False, 'severity': 'HARM_SEVERITY_NEGLIGIBLE', 'severity_score': 0.08882041275501251}, {'category': 'HARM_CATEGORY_HARASSMENT', 'probability_label': 'NEGLIGIBLE', 'probability_score': 0.05665259063243866, 'blocked': False, 'severity': 'HARM_SEVERITY_NEGLIGIBLE', 'severity_score': 0.0259573832154274}, {'category': 'HARM_CATEGORY_SEXUALLY_EXPLICIT', 'probability_label': 'NEGLIGIBLE', 'probability_score': 0.04958896338939667, 'blocked': False, 'severity': 'HARM_SEVERITY_NEGLIGIBLE', 'severity_score': 0.06465353071689606}], 'usage_metadata': {'prompt_token_count': 330, 'candidates_token_count': 34, 'total_token_count': 364, 'cached_content_token_count': 0}, 'finish_reason': 'STOP', 'avg_logprobs': -0.1110690060783835}, id='run-08e9fad5-c898-4132-ac69-ba1ea17ba842-0', usage_metadata={'input_tokens': 330, 'output_tokens': 34, 'total_tokens': 364})]}}\n",
      "----\n"
     ]
    }
   ],
   "source": [
    "config = {\"configurable\": {\"thread_id\": \"xyz123\"}}\n",
    "for chunk in agent_executor.stream(\n",
    "    {\n",
    "        \"messages\": [\n",
    "            HumanMessage(content=\"Thời tiết của thành phố Hồ Chí Minh hôm nay ra sao?\")\n",
    "        ]\n",
    "    },\n",
    "    config,\n",
    "):\n",
    "    print(chunk)\n",
    "    print(\"----\")"
   ]
  },
  {
   "cell_type": "code",
   "execution_count": 27,
   "metadata": {},
   "outputs": [
    {
     "name": "stdout",
     "output_type": "stream",
     "text": [
      "{'agent': {'messages': [AIMessage(content='Bạn vừa hỏi về thời tiết của thành phố Hồ Chí Minh hôm nay. \\n', additional_kwargs={}, response_metadata={'is_blocked': False, 'safety_ratings': [{'category': 'HARM_CATEGORY_HATE_SPEECH', 'probability_label': 'NEGLIGIBLE', 'probability_score': 0.023330826312303543, 'blocked': False, 'severity': 'HARM_SEVERITY_NEGLIGIBLE', 'severity_score': 0.09807942807674408}, {'category': 'HARM_CATEGORY_DANGEROUS_CONTENT', 'probability_label': 'NEGLIGIBLE', 'probability_score': 0.041462209075689316, 'blocked': False, 'severity': 'HARM_SEVERITY_NEGLIGIBLE', 'severity_score': 0.09534948319196701}, {'category': 'HARM_CATEGORY_HARASSMENT', 'probability_label': 'NEGLIGIBLE', 'probability_score': 0.09807942807674408, 'blocked': False, 'severity': 'HARM_SEVERITY_NEGLIGIBLE', 'severity_score': 0.07263684272766113}, {'category': 'HARM_CATEGORY_SEXUALLY_EXPLICIT', 'probability_label': 'NEGLIGIBLE', 'probability_score': 0.05921032652258873, 'blocked': False, 'severity': 'HARM_SEVERITY_NEGLIGIBLE', 'severity_score': 0.08632375299930573}], 'usage_metadata': {'prompt_token_count': 370, 'candidates_token_count': 17, 'total_token_count': 387, 'cached_content_token_count': 0}, 'finish_reason': 'STOP', 'avg_logprobs': -0.05575950005475212}, id='run-4d1418b6-c39f-4ab4-8369-6003477894dc-0', usage_metadata={'input_tokens': 370, 'output_tokens': 17, 'total_tokens': 387})]}}\n",
      "----\n"
     ]
    }
   ],
   "source": [
    "for chunk in agent_executor.stream(\n",
    "    {\"messages\": [HumanMessage(content=\"Tôi vừa hỏi gì vậy?\")]},\n",
    "    config,\n",
    "):\n",
    "    print(chunk)\n",
    "    print(\"----\")"
   ]
  },
  {
   "cell_type": "code",
   "execution_count": 28,
   "metadata": {},
   "outputs": [
    {
     "name": "stdout",
     "output_type": "stream",
     "text": [
      "{'agent': {'messages': [AIMessage(content='', additional_kwargs={'function_call': {'name': 'duckduckgo_search', 'arguments': '{\"query\": \"weather in Ninh Binh\"}'}}, response_metadata={'is_blocked': False, 'safety_ratings': [{'category': 'HARM_CATEGORY_HATE_SPEECH', 'probability_label': 'NEGLIGIBLE', 'probability_score': 0.0888671875, 'blocked': False, 'severity': 'HARM_SEVERITY_NEGLIGIBLE', 'severity_score': 0.1025390625}, {'category': 'HARM_CATEGORY_DANGEROUS_CONTENT', 'probability_label': 'NEGLIGIBLE', 'probability_score': 0.1513671875, 'blocked': False, 'severity': 'HARM_SEVERITY_NEGLIGIBLE', 'severity_score': 0.185546875}, {'category': 'HARM_CATEGORY_HARASSMENT', 'probability_label': 'NEGLIGIBLE', 'probability_score': 0.103515625, 'blocked': False, 'severity': 'HARM_SEVERITY_NEGLIGIBLE', 'severity_score': 0.083984375}, {'category': 'HARM_CATEGORY_SEXUALLY_EXPLICIT', 'probability_label': 'NEGLIGIBLE', 'probability_score': 0.059326171875, 'blocked': False, 'severity': 'HARM_SEVERITY_NEGLIGIBLE', 'severity_score': 0.04541015625}], 'usage_metadata': {'prompt_token_count': 396, 'candidates_token_count': 11, 'total_token_count': 407, 'cached_content_token_count': 0}, 'finish_reason': 'STOP', 'avg_logprobs': -0.0008342846889387478}, id='run-a7b1774d-1e47-46c1-bbf6-b198aeb318e6-0', tool_calls=[{'name': 'duckduckgo_search', 'args': {'query': 'weather in Ninh Binh'}, 'id': '62d5ceac-eeac-4777-bc9e-5f0ca3447ea1', 'type': 'tool_call'}], usage_metadata={'input_tokens': 396, 'output_tokens': 11, 'total_tokens': 407})]}}\n",
      "----\n",
      "{'tools': {'messages': [ToolMessage(content='Historic weather in Ninh Binh from 18 January, 2025 back to 12 January, 2025. Ninh Binh Temperature Yesterday (18 January, 2025) High temperature yesterday: 21.58°C; Low temperature yesterday: 15.24°C; Average temperature yesterday: 18.41 °C; Ninh Binh Weather History for the last 30 days. Date Conditions Temp Humidity Wind; Ninh Bnh Weather Forecasts. Weather Underground provides local & long-range weather forecasts, weatherreports, maps & tropical weather conditions for the Ninh Bnh area. The temperature in Ninh Binh tomorrow in the early morning is 16 ° C. If you take into account factors such as wind, humidity and other weather conditions, the temperatures can feel like 16 ° C. The chance of rain in Ninh Binh in the morning is 0%, and the wind will blow at 4 km/h. Be prepared with the most accurate 10-day forecast for Ninh Bình, Ninh Bình, Vietnam with highs, lows, chance of precipitation from The Weather Channel and Weather.com Ninh Binh 30 Day Weather Forecast. Starting from Thursday, January 16, temperatures in Ninh Binh will range from a low of 16°C to a high of around 26°C on Friday, February 14. Conditions for the next 30 days will generally be clouds, with some days experiencing rain.', name='duckduckgo_search', id='e305ec10-c541-486f-8117-8a269c1178e9', tool_call_id='62d5ceac-eeac-4777-bc9e-5f0ca3447ea1')]}}\n",
      "----\n",
      "{'agent': {'messages': [AIMessage(content='Thời tiết ở Ninh Bình hiện tại khá mát mẻ, nhiệt độ dao động từ 16°C đến 26°C. Trời nhiều mây, có thể có mưa vào một số ngày. \\n', additional_kwargs={}, response_metadata={'is_blocked': False, 'safety_ratings': [{'category': 'HARM_CATEGORY_HATE_SPEECH', 'probability_label': 'NEGLIGIBLE', 'probability_score': 0.0023967346642166376, 'blocked': False, 'severity': 'HARM_SEVERITY_NEGLIGIBLE', 'severity_score': 0.014957079663872719}, {'category': 'HARM_CATEGORY_DANGEROUS_CONTENT', 'probability_label': 'NEGLIGIBLE', 'probability_score': 0.05582325905561447, 'blocked': False, 'severity': 'HARM_SEVERITY_NEGLIGIBLE', 'severity_score': 0.04084572568535805}, {'category': 'HARM_CATEGORY_HARASSMENT', 'probability_label': 'NEGLIGIBLE', 'probability_score': 0.012431642040610313, 'blocked': False, 'severity': 'HARM_SEVERITY_NEGLIGIBLE', 'severity_score': 0.008577492088079453}, {'category': 'HARM_CATEGORY_SEXUALLY_EXPLICIT', 'probability_label': 'NEGLIGIBLE', 'probability_score': 0.026759300380945206, 'blocked': False, 'severity': 'HARM_SEVERITY_NEGLIGIBLE', 'severity_score': 0.01826431415975094}], 'usage_metadata': {'prompt_token_count': 729, 'candidates_token_count': 45, 'total_token_count': 774, 'cached_content_token_count': 0}, 'finish_reason': 'STOP', 'avg_logprobs': -0.1711566925048828}, id='run-e5322847-5a8f-47d9-a06c-d6a2da1fefa0-0', usage_metadata={'input_tokens': 729, 'output_tokens': 45, 'total_tokens': 774})]}}\n",
      "----\n"
     ]
    }
   ],
   "source": [
    "for chunk in agent_executor.stream(\n",
    "    {\"messages\": [HumanMessage(content=\"Thời tiết ở Ninh Bình như thế nào?\")]},\n",
    "    config,\n",
    "):\n",
    "    print(chunk)\n",
    "    print(\"----\")"
   ]
  },
  {
   "cell_type": "code",
   "execution_count": 29,
   "metadata": {},
   "outputs": [
    {
     "name": "stdout",
     "output_type": "stream",
     "text": [
      "{'agent': {'messages': [AIMessage(content='', additional_kwargs={'function_call': {'name': 'duckduckgo_search', 'arguments': '{\"query\": \"weather in Ninh Binh for the next 3 days\"}'}}, response_metadata={'is_blocked': False, 'safety_ratings': [{'category': 'HARM_CATEGORY_HATE_SPEECH', 'probability_label': 'NEGLIGIBLE', 'probability_score': 0.0791015625, 'blocked': False, 'severity': 'HARM_SEVERITY_NEGLIGIBLE', 'severity_score': 0.1025390625}, {'category': 'HARM_CATEGORY_DANGEROUS_CONTENT', 'probability_label': 'NEGLIGIBLE', 'probability_score': 0.111328125, 'blocked': False, 'severity': 'HARM_SEVERITY_NEGLIGIBLE', 'severity_score': 0.1416015625}, {'category': 'HARM_CATEGORY_HARASSMENT', 'probability_label': 'NEGLIGIBLE', 'probability_score': 0.111328125, 'blocked': False, 'severity': 'HARM_SEVERITY_NEGLIGIBLE', 'severity_score': 0.08740234375}, {'category': 'HARM_CATEGORY_SEXUALLY_EXPLICIT', 'probability_label': 'NEGLIGIBLE', 'probability_score': 0.057373046875, 'blocked': False, 'severity': 'HARM_SEVERITY_NEGLIGIBLE', 'severity_score': 0.05029296875}], 'usage_metadata': {'prompt_token_count': 788, 'candidates_token_count': 17, 'total_token_count': 805, 'cached_content_token_count': 0}, 'finish_reason': 'STOP', 'avg_logprobs': -0.03456334506764131}, id='run-fc7788f3-ac72-4d85-a332-443651d3a21a-0', tool_calls=[{'name': 'duckduckgo_search', 'args': {'query': 'weather in Ninh Binh for the next 3 days'}, 'id': '6709dc2d-5af2-4a0d-b8cd-19efe2f3dbbd', 'type': 'tool_call'}], usage_metadata={'input_tokens': 788, 'output_tokens': 17, 'total_tokens': 805})]}}\n",
      "----\n",
      "{'tools': {'messages': [ToolMessage(content='Take all precautions because unprotected skin and eyes can burn in minutes. Try to avoid sun exposure between 10 a.m. and 4 p.m. If outdoors, seek shade and wear sun protective clothing, a wide-brimmed hat, and UV-blocking sunglasses. Generously apply broad spectrum SPF 30+ sunscreen every 2 hours, even on cloudy days, and after swimming or ... Be prepared with the most accurate 10-day forecast for Ninh Bình, Ninh Bình, Vietnam with highs, lows, chance of precipitation from The Weather Channel and Weather.com Dự báo thời tiết 3 ngày tới tại Ninh Bình. Thông tin ba ngày tiếp theo về nhiệt độ, độ ẩm, lượng mưa tại khu vực Ninh Bình - Thoitiet.vn Thành phố của bạn: Hà Nội Thay đổi Starting from Tuesday, January 14, temperatures in Ninh Binh will range from a low of 15°C to a high of around 22°C on Monday, January 20. Conditions for the next 7 days will generally be clouds, with some days experiencing rain. ... Ninh Binh 7 Day Weather Forecast. Starting from Tuesday, January 14, temperatures in Ninh Binh will range from ... Ninh Bnh Weather Forecasts. Weather Underground provides local & long-range weather forecasts, weatherreports, maps & tropical weather conditions for the Ninh Bnh area. ... Length of Day . 12 h 53 ...', name='duckduckgo_search', id='55b68f33-ef08-41cf-a3ec-10d81889e66d', tool_call_id='6709dc2d-5af2-4a0d-b8cd-19efe2f3dbbd')]}}\n",
      "----\n",
      "{'agent': {'messages': [AIMessage(content='Trong 3 ngày tiếp theo, thời tiết ở Ninh Bình sẽ có nhiệt độ dao động từ 15°C đến 22°C. Trời nhiều mây, có thể có mưa vào một số ngày. \\n', additional_kwargs={}, response_metadata={'is_blocked': False, 'safety_ratings': [{'category': 'HARM_CATEGORY_HATE_SPEECH', 'probability_label': 'NEGLIGIBLE', 'probability_score': 0.0055549256503582, 'blocked': False, 'severity': 'HARM_SEVERITY_NEGLIGIBLE', 'severity_score': 0.023689482361078262}, {'category': 'HARM_CATEGORY_DANGEROUS_CONTENT', 'probability_label': 'NEGLIGIBLE', 'probability_score': 0.11124135553836823, 'blocked': False, 'severity': 'HARM_SEVERITY_NEGLIGIBLE', 'severity_score': 0.07921021431684494}, {'category': 'HARM_CATEGORY_HARASSMENT', 'probability_label': 'NEGLIGIBLE', 'probability_score': 0.0259573832154274, 'blocked': False, 'severity': 'HARM_SEVERITY_NEGLIGIBLE', 'severity_score': 0.01826431415975094}, {'category': 'HARM_CATEGORY_SEXUALLY_EXPLICIT', 'probability_label': 'NEGLIGIBLE', 'probability_score': 0.04603387415409088, 'blocked': False, 'severity': 'HARM_SEVERITY_NEGLIGIBLE', 'severity_score': 0.025178801268339157}], 'usage_metadata': {'prompt_token_count': 1114, 'candidates_token_count': 47, 'total_token_count': 1161, 'cached_content_token_count': 0}, 'finish_reason': 'STOP', 'avg_logprobs': -0.07012189702784762}, id='run-7718a5b2-b391-42ad-a12d-17ba8980ceef-0', usage_metadata={'input_tokens': 1114, 'output_tokens': 47, 'total_tokens': 1161})]}}\n",
      "----\n"
     ]
    }
   ],
   "source": [
    "for chunk in agent_executor.stream(\n",
    "    {\n",
    "        \"messages\": [\n",
    "            HumanMessage(content=\"Thời tiết ở Ninh Bình trong 3 ngày tiếp theo ra sao?\")\n",
    "        ]\n",
    "    },\n",
    "    config,\n",
    "):\n",
    "    print(chunk)\n",
    "    print(\"----\")"
   ]
  },
  {
   "cell_type": "code",
   "execution_count": 30,
   "metadata": {},
   "outputs": [
    {
     "name": "stdout",
     "output_type": "stream",
     "text": [
      "{'agent': {'messages': [AIMessage(content='Thời tiết ở Ninh Bình hiện tại khá mát mẻ, phù hợp cho việc du lịch. Tuy nhiên, bạn nên lưu ý một số điều sau:\\n\\n* **Chuẩn bị áo ấm:**  Nhiệt độ có thể xuống thấp vào buổi tối và sáng sớm, nên bạn cần mang theo áo khoác hoặc áo len để giữ ấm.\\n* **Mang theo ô hoặc áo mưa:**  Có thể có mưa vào một số ngày, nên bạn cần chuẩn bị ô hoặc áo mưa để tránh bị ướt.\\n* **Bảo vệ da:**  Mặc dù thời tiết mát mẻ, nhưng ánh nắng mặt trời vẫn có thể gây hại cho da. Bạn nên thoa kem chống nắng và đội mũ nón khi ra ngoài.\\n* **Chuẩn bị giày dép phù hợp:**  Ninh Bình có nhiều địa điểm du lịch đòi hỏi phải đi bộ nhiều, nên bạn cần mang theo giày dép thoải mái và phù hợp với địa hình.\\n\\nNgoài ra, bạn cũng nên tìm hiểu thêm về các điểm du lịch, ẩm thực và văn hóa của Ninh Bình để có một chuyến du lịch trọn vẹn. \\n', additional_kwargs={}, response_metadata={'is_blocked': False, 'safety_ratings': [{'category': 'HARM_CATEGORY_HATE_SPEECH', 'probability_label': 'NEGLIGIBLE', 'probability_score': 0.01744246669113636, 'blocked': False, 'severity': 'HARM_SEVERITY_NEGLIGIBLE', 'severity_score': 0.048857685178518295}, {'category': 'HARM_CATEGORY_DANGEROUS_CONTENT', 'probability_label': 'NEGLIGIBLE', 'probability_score': 0.11596086621284485, 'blocked': False, 'severity': 'HARM_SEVERITY_NEGLIGIBLE', 'severity_score': 0.08035743236541748}, {'category': 'HARM_CATEGORY_HARASSMENT', 'probability_label': 'NEGLIGIBLE', 'probability_score': 0.03567853942513466, 'blocked': False, 'severity': 'HARM_SEVERITY_NEGLIGIBLE', 'severity_score': 0.019719159230589867}, {'category': 'HARM_CATEGORY_SEXUALLY_EXPLICIT', 'probability_label': 'NEGLIGIBLE', 'probability_score': 0.06853760033845901, 'blocked': False, 'severity': 'HARM_SEVERITY_NEGLIGIBLE', 'severity_score': 0.04742598906159401}], 'usage_metadata': {'prompt_token_count': 1178, 'candidates_token_count': 231, 'total_token_count': 1409, 'cached_content_token_count': 0}, 'finish_reason': 'STOP', 'avg_logprobs': -0.13917851964116612}, id='run-0761aeac-d235-4aea-affc-d05d481735d7-0', usage_metadata={'input_tokens': 1178, 'output_tokens': 231, 'total_tokens': 1409})]}}\n",
      "----\n"
     ]
    }
   ],
   "source": [
    "for chunk in agent_executor.stream(\n",
    "    {\n",
    "        \"messages\": [\n",
    "            HumanMessage(\n",
    "                content=\"Cần lưu ý gì nếu đi du lịch ở Ninh Bình vào thời gian này?\"\n",
    "            )\n",
    "        ]\n",
    "    },\n",
    "    config,\n",
    "):\n",
    "    print(chunk)\n",
    "    print(\"----\")"
   ]
  },
  {
   "cell_type": "code",
   "execution_count": null,
   "metadata": {},
   "outputs": [],
   "source": []
  }
 ],
 "metadata": {
  "kernelspec": {
   "display_name": ".venv",
   "language": "python",
   "name": "python3"
  },
  "language_info": {
   "codemirror_mode": {
    "name": "ipython",
    "version": 3
   },
   "file_extension": ".py",
   "mimetype": "text/x-python",
   "name": "python",
   "nbconvert_exporter": "python",
   "pygments_lexer": "ipython3",
   "version": "3.10.12"
  }
 },
 "nbformat": 4,
 "nbformat_minor": 2
}
