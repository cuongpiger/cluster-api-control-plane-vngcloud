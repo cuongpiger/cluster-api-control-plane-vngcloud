{
 "cells": [
  {
   "cell_type": "code",
   "execution_count": 1,
   "metadata": {},
   "outputs": [],
   "source": [
    "%load_ext autoreload\n",
    "%autoreload 2"
   ]
  },
  {
   "cell_type": "markdown",
   "metadata": {},
   "source": [
    "# Import dependencies"
   ]
  },
  {
   "cell_type": "code",
   "execution_count": 34,
   "metadata": {},
   "outputs": [],
   "source": [
    "import os\n",
    "\n",
    "from langchain_google_vertexai import ChatVertexAI, VertexAIEmbeddings\n",
    "from langchain_core.messages import HumanMessage, SystemMessage\n",
    "from langchain_core.documents import Document\n",
    "from langchain_core.prompts import ChatPromptTemplate\n",
    "from langchain_community.document_loaders import PyPDFLoader\n",
    "from langchain_text_splitters import RecursiveCharacterTextSplitter\n",
    "from langchain_core.vectorstores import InMemoryVectorStore\n",
    "from langchain_core.runnables import chain\n",
    "\n",
    "from IPython.display import display, Markdown, Latex\n",
    "\n",
    "from typing import List"
   ]
  },
  {
   "cell_type": "markdown",
   "metadata": {},
   "source": [
    "# Configure Google credentials\n",
    "- **NOTE**: Remember change the `GOOGLE_APPLICATION_CREDENTIALS` to the path of your own Google credentials file."
   ]
  },
  {
   "cell_type": "code",
   "execution_count": 3,
   "metadata": {},
   "outputs": [],
   "source": [
    "os.environ[\"GOOGLE_APPLICATION_CREDENTIALS\"] = (\n",
    "    \"/mnt/Exdisk/git-cuongpiger/secret/work/vngcloud/ai-platform/vertex-ai-credential.json\"\n",
    ")"
   ]
  },
  {
   "cell_type": "markdown",
   "metadata": {},
   "source": [
    "# Document"
   ]
  },
  {
   "cell_type": "code",
   "execution_count": 4,
   "metadata": {},
   "outputs": [],
   "source": [
    "documents = [\n",
    "    Document(\n",
    "        page_content=\"Dogs are great companions, known for their loyalty and friendliness.\",\n",
    "        metadata={\"source\": \"mammal-pets-doc\"},\n",
    "    ),\n",
    "    Document(\n",
    "        page_content=\"Cats are independent pets that often enjoy their own space.\",\n",
    "        metadata={\"source\": \"mammal-pets-doc\"},\n",
    "    ),\n",
    "]"
   ]
  },
  {
   "cell_type": "markdown",
   "metadata": {},
   "source": [
    "# Loading documents"
   ]
  },
  {
   "cell_type": "code",
   "execution_count": 5,
   "metadata": {},
   "outputs": [],
   "source": [
    "file_path = \"./../../../data/sample.pdf\"\n",
    "loader = PyPDFLoader(file_path)\n",
    "\n",
    "docs = loader.load()"
   ]
  },
  {
   "cell_type": "code",
   "execution_count": 6,
   "metadata": {},
   "outputs": [
    {
     "name": "stdout",
     "output_type": "stream",
     "text": [
      "360\n"
     ]
    }
   ],
   "source": [
    "print(len(docs))"
   ]
  },
  {
   "cell_type": "code",
   "execution_count": 7,
   "metadata": {},
   "outputs": [
    {
     "name": "stdout",
     "output_type": "stream",
     "text": [
      "2\n",
      "VKS\n",
      "VKS \u0000VNGCloud Kubernetes Service) is a managed service on VNGCloud that helps\n",
      "you simplify the deployment and management of container-based applications.\n",
      "Kubernetes is an open-source platform de\n",
      "\n",
      "{'source': './../../../data/sample.pdf', 'page': 1}\n"
     ]
    }
   ],
   "source": [
    "print(f\"{docs[1].page_content[:200]}\\n\")\n",
    "print(docs[1].metadata)"
   ]
  },
  {
   "cell_type": "markdown",
   "metadata": {},
   "source": [
    "# Spliting"
   ]
  },
  {
   "cell_type": "code",
   "execution_count": 8,
   "metadata": {},
   "outputs": [],
   "source": [
    "text_splitter = RecursiveCharacterTextSplitter(\n",
    "    chunk_size=1000, chunk_overlap=200, add_start_index=True\n",
    ")\n",
    "all_splits = text_splitter.split_documents(docs)"
   ]
  },
  {
   "cell_type": "code",
   "execution_count": 9,
   "metadata": {},
   "outputs": [
    {
     "data": {
      "text/plain": [
       "535"
      ]
     },
     "execution_count": 9,
     "metadata": {},
     "output_type": "execute_result"
    }
   ],
   "source": [
    "len(all_splits)"
   ]
  },
  {
   "cell_type": "code",
   "execution_count": 10,
   "metadata": {},
   "outputs": [
    {
     "data": {
      "text/plain": [
       "Document(metadata={'source': './../../../data/sample.pdf', 'page': 67, 'start_index': 0}, page_content='68')"
      ]
     },
     "execution_count": 10,
     "metadata": {},
     "output_type": "execute_result"
    }
   ],
   "source": [
    "all_splits[100]"
   ]
  },
  {
   "cell_type": "markdown",
   "metadata": {},
   "source": [
    "# Embeddings"
   ]
  },
  {
   "cell_type": "code",
   "execution_count": 11,
   "metadata": {},
   "outputs": [],
   "source": [
    "embeddings = VertexAIEmbeddings(model=\"text-embedding-004\")\n",
    "\n",
    "vector_1 = embeddings.embed_query(all_splits[100].page_content)\n",
    "vector_2 = embeddings.embed_query(all_splits[101].page_content)"
   ]
  },
  {
   "cell_type": "code",
   "execution_count": 12,
   "metadata": {},
   "outputs": [
    {
     "name": "stdout",
     "output_type": "stream",
     "text": [
      "Generated vectors of length 768\n",
      "\n",
      "[0.012313091196119785, -0.0286110732704401, -0.04371386021375656, -0.007997739128768444, 0.030984440818428993, 0.03765463829040527, 0.005473416298627853, -0.004623760934919119, 0.015282704494893551, 0.007988318800926208, 0.005866541992872953, 0.04319928586483002, 0.057796817272901535, -0.035963620990514755, -0.03859233856201172, -0.07828214019536972, -0.04263092204928398, -0.04011708125472069, -0.06994833797216415, -0.06528584659099579]\n"
     ]
    }
   ],
   "source": [
    "assert len(vector_1) == len(vector_2)\n",
    "print(f\"Generated vectors of length {len(vector_1)}\\n\")\n",
    "print(vector_1[:20])"
   ]
  },
  {
   "cell_type": "markdown",
   "metadata": {},
   "source": [
    "# Vector stores"
   ]
  },
  {
   "cell_type": "code",
   "execution_count": 13,
   "metadata": {},
   "outputs": [],
   "source": [
    "vector_store = InMemoryVectorStore(embeddings)"
   ]
  },
  {
   "cell_type": "code",
   "execution_count": 14,
   "metadata": {},
   "outputs": [],
   "source": [
    "ids = vector_store.add_documents(documents=all_splits)"
   ]
  },
  {
   "cell_type": "markdown",
   "metadata": {},
   "source": [
    "# Usage"
   ]
  },
  {
   "cell_type": "code",
   "execution_count": 15,
   "metadata": {},
   "outputs": [
    {
     "name": "stdout",
     "output_type": "stream",
     "text": [
      "page_content='Private Cluster feature helps your K8S cluster to be as secure as possible, all\n",
      "connections are completely private from the connection between the nodes to\n",
      "the control plane, the connection from the client to the control plane, or the\n",
      "connection from the nodes to other products and services in VNG Cloud such\n",
      "as: vStorage, vCR, vMonitor, VNGCloud APIs,... Private Cluster is the ideal\n",
      "choice for services that require strict access control, ensuring compliance\n",
      "with regulations on security and data privacy. For details on the two operating\n",
      "models of Cluster, you can refer to here and refer to the steps to create a\n",
      "private Cluster here .\n",
      "VKS \u0000VNGCloud Kubernetes Service) introduces the latest update for VKS, bringing\n",
      "numerous new improvements for users. Here are the details of the update:\n",
      "Aug 28, 2024\n",
      "Aug 26, 2024' metadata={'source': './../../../data/sample.pdf', 'page': 11, 'start_index': 833}\n"
     ]
    }
   ],
   "source": [
    "results = vector_store.similarity_search(\"What is VKS private cluster?\")\n",
    "\n",
    "print(results[0])"
   ]
  },
  {
   "cell_type": "code",
   "execution_count": 16,
   "metadata": {},
   "outputs": [
    {
     "data": {
      "text/plain": [
       "4"
      ]
     },
     "execution_count": 16,
     "metadata": {},
     "output_type": "execute_result"
    }
   ],
   "source": [
    "len(results)"
   ]
  },
  {
   "cell_type": "code",
   "execution_count": 17,
   "metadata": {},
   "outputs": [
    {
     "name": "stdout",
     "output_type": "stream",
     "text": [
      "page_content='Private Cluster feature helps your K8S cluster to be as secure as possible, all\n",
      "connections are completely private from the connection between the nodes to\n",
      "the control plane, the connection from the client to the control plane, or the\n",
      "connection from the nodes to other products and services in VNG Cloud such\n",
      "as: vStorage, vCR, vMonitor, VNGCloud APIs,... Private Cluster is the ideal\n",
      "choice for services that require strict access control, ensuring compliance\n",
      "with regulations on security and data privacy. For details on the two operating\n",
      "models of Cluster, you can refer to here and refer to the steps to create a\n",
      "private Cluster here .\n",
      "VKS \u0000VNGCloud Kubernetes Service) introduces the latest update for VKS, bringing\n",
      "numerous new improvements for users. Here are the details of the update:\n",
      "Aug 28, 2024\n",
      "Aug 26, 2024' metadata={'source': './../../../data/sample.pdf', 'page': 11, 'start_index': 833}\n",
      "____________________________________________________________________________________________________\n",
      "page_content='164\n",
      "When you create a Public Cluster with Public/Private Node Group , the VKS\n",
      "system will:\n",
      "• To enhance the security of your cluster, we have introduced the private cluster\n",
      "model. The Private Cluster feature helps make your K8S cluster as secure as\n",
      "possible, all connections are completely private from the connection between\n",
      "nodes to the control plane, the connection from the client to the control plane,\n",
      "or the connection from nodes to products. Other services in VNG Cloud such\n",
      "as: vStorage, vCR, vMonitor, VNGCloud APIs,...Private Cluster is the ideal\n",
      "choice for services that require strict access control, ensuring compliance\n",
      "with security regulations and data privacy.\n",
      "Below is a comparison table between creating and using Public Cluster and Private\n",
      "Cluster on the VKS system:\n",
      "Criteria Public Cluster Private Cluster\n",
      "Connect Use Public IP addresses to\n",
      "communicate between\n",
      "nodes and control plane,\n",
      "between clients and control\n",
      "plane, between nodes and\n",
      "Use Private IP addresses to' metadata={'source': './../../../data/sample.pdf', 'page': 163, 'start_index': 0}\n",
      "____________________________________________________________________________________________________\n",
      "page_content='6\n",
      "When you create a Public Cluster with Public/Private Node Group , the VKS\n",
      "system will:\n",
      "• To enhance the security of your cluster, we have introduced the private cluster\n",
      "model. The Private Cluster feature helps make your K8S cluster as secure as\n",
      "possible, all connections are completely private from the connection between\n",
      "nodes to the control plane, the connection from the client to the control plane,\n",
      "or the connection from nodes to products. Other services in VNG Cloud such\n",
      "as: vStorage, vCR, vMonitor, VNGCloud APIs,...Private Cluster is the ideal\n",
      "choice for services that require strict access control, ensuring compliance\n",
      "with security regulations and data privacy.\n",
      "Below is a comparison table between creating and using Public Cluster and Private\n",
      "Cluster on the VKS system:\n",
      "Criteria Public Cluster Private Cluster\n",
      "Connect Use Public IP addresses to\n",
      "communicate between\n",
      "nodes and control plane,\n",
      "between clients and control\n",
      "plane, between nodes and\n",
      "Use Private IP addresses to' metadata={'source': './../../../data/sample.pdf', 'page': 5, 'start_index': 0}\n",
      "____________________________________________________________________________________________________\n",
      "page_content='12\n",
      "the VKS cluster to communicate via internal IP addresses, enhancing security\n",
      "and minimizing the risk of external attacks.\n",
      "• Enable/Disable Volume Encryption Option: Volume encryption feature allows\n",
      "you to protect sensitive data stored in the Persistent Volumes of the VKS\n",
      "cluster. This ensures data security and compliance with information protection\n",
      "regulations. Now, you can enable/disable encryption for each Volume as\n",
      "needed.\n",
      "VKS \u0000VNGCloud Kubernetes Service) introduces the latest update to the existing\n",
      "VKS, bringing many new features to users. Here are the details about the update:\n",
      "New features:\n",
      "• Private Cluster: Previously, public clusters on VKS were using Public IP\n",
      "addresses to communicate between nodes and the control plane. To improve\n",
      "the security of your cluster, we have launched the private cluster model. The\n",
      "Private Cluster feature helps your K8S cluster to be as secure as possible, all\n",
      "connections are completely private from the connection between the nodes to' metadata={'source': './../../../data/sample.pdf', 'page': 11, 'start_index': 0}\n",
      "____________________________________________________________________________________________________\n"
     ]
    }
   ],
   "source": [
    "for res in results:\n",
    "    print(res, end=f\"\\n{'_'*100}\\n\")"
   ]
  },
  {
   "cell_type": "code",
   "execution_count": 18,
   "metadata": {},
   "outputs": [
    {
     "data": {
      "text/plain": [
       "Document(id='5cecfd8e-53fc-4078-8c5d-1d2d4553cd3b', metadata={'source': './../../../data/sample.pdf', 'page': 11, 'start_index': 833}, page_content='Private Cluster feature helps your K8S cluster to be as secure as possible, all\\nconnections are completely private from the connection between the nodes to\\nthe control plane, the connection from the client to the control plane, or the\\nconnection from the nodes to other products and services in VNG Cloud such\\nas: vStorage, vCR, vMonitor, VNGCloud APIs,... Private Cluster is the ideal\\nchoice for services that require strict access control, ensuring compliance\\nwith regulations on security and data privacy. For details on the two operating\\nmodels of Cluster, you can refer to here and refer to the steps to create a\\nprivate Cluster here .\\nVKS \\x00VNGCloud Kubernetes Service) introduces the latest update for VKS, bringing\\nnumerous new improvements for users. Here are the details of the update:\\nAug 28, 2024\\nAug 26, 2024')"
      ]
     },
     "execution_count": 18,
     "metadata": {},
     "output_type": "execute_result"
    }
   ],
   "source": [
    "results[0]"
   ]
  },
  {
   "cell_type": "markdown",
   "metadata": {},
   "source": [
    "# Async query"
   ]
  },
  {
   "cell_type": "code",
   "execution_count": 21,
   "metadata": {},
   "outputs": [],
   "source": [
    "results = await vector_store.asimilarity_search(\n",
    "    \"How to expose service using LoadBalancer in VKS?\"\n",
    ")"
   ]
  },
  {
   "cell_type": "code",
   "execution_count": 22,
   "metadata": {},
   "outputs": [
    {
     "name": "stdout",
     "output_type": "stream",
     "text": [
      "page_content='315\n",
      "• In case of migrating to VKS and still using vcontainer-nginx-ingress-controller, it\n",
      "is necessary to change the Service type to LoadBalancer\n",
      "velero restore create --item-operation-timeout 1m --from-backup vcontaine\n",
      "velero restore create --item-operation-timeout 1m --from-backup vcontaine\n",
      "velero restore create --item-operation-timeout 1m --from-backup vcontaine\n",
      "kubectl patch service -n kube-system vcontainer-ingress-nginx-controller' metadata={'source': './../../../data/sample.pdf', 'page': 314, 'start_index': 0}\n"
     ]
    }
   ],
   "source": [
    "print(results[0])"
   ]
  },
  {
   "cell_type": "code",
   "execution_count": 23,
   "metadata": {},
   "outputs": [
    {
     "name": "stdout",
     "output_type": "stream",
     "text": [
      "page_content='315\n",
      "• In case of migrating to VKS and still using vcontainer-nginx-ingress-controller, it\n",
      "is necessary to change the Service type to LoadBalancer\n",
      "velero restore create --item-operation-timeout 1m --from-backup vcontaine\n",
      "velero restore create --item-operation-timeout 1m --from-backup vcontaine\n",
      "velero restore create --item-operation-timeout 1m --from-backup vcontaine\n",
      "kubectl patch service -n kube-system vcontainer-ingress-nginx-controller' metadata={'source': './../../../data/sample.pdf', 'page': 314, 'start_index': 0}\n",
      "____________________________________________________________________________________________________\n",
      "page_content='Ingress Controller: VKS provides the ability to manage NLB/ALB through YAML\n",
      "of Kubernetes, making it easy for you expose Service in Kubernetes to the\n",
      "outside.\n",
      "• Enhance security: VKS allows you to create a Private Node Group with only\n",
      "Private IP and control access to the cluster through the IP Whitelist feature,\n",
      "ensuring the safety of your system.\n",
      "With these breakthrough features, VKS promises to bring you a completely new\n",
      "Kubernetes management experience, helping you optimize efficiency and save\n",
      "costs!\n",
      "Please contact us for further advice and support!' metadata={'source': './../../../data/sample.pdf', 'page': 20, 'start_index': 797}\n",
      "____________________________________________________________________________________________________\n",
      "page_content='225\n",
      "Integrate with Network Load Balancer\n",
      "To integrate a Network Load Balancer with a Kubernetes cluster, you can use a\n",
      "Service with type LoadBalancer . When you create such a Service, VNGCloud\n",
      "Controller Manager will automatically create an NLB to forward traffic to pods on\n",
      "your node . You can also use annotations to customize Network Load Balancer\n",
      "properties, such as port, protocol,...\n",
      "• Create a Kubernetes cluster on VNGCloud, or use an existing cluster. Note:\n",
      "make sure you have downloaded the cluster configuration file once the cluster\n",
      "has been successfully initialized and accessed your cluster.\n",
      "• Create or use a service account created on IAM and attach policy: \n",
      "vLBFullAccess , vServerFullAccess . To create a service account, go here and\n",
      "follow these steps:\n",
      "◦ Select \" Create a Service Account \", enter a name for the Service Account\n",
      "and click Next Step to assign permissions to the Service Account\n",
      "◦ Find and select Policy: vLBFullAccess and Policy: vServerFullAccess ,' metadata={'source': './../../../data/sample.pdf', 'page': 224, 'start_index': 0}\n",
      "____________________________________________________________________________________________________\n",
      "page_content='91\n",
      "Step 3\u0000 To access the just exported nginx app, you can use the Endpoint of Load\n",
      "Balancer URL with the format:\n",
      "You can get Load Balancer Public Endpoint information at the vLB interface.\n",
      "Specifically, access at https://hcm-3.console.vngcloud.vn/vserver/load-\n",
      "balancer/vlb/\n",
      "For example, below I have successfully accessed the nginx app with the address: \n",
      "http://116.118.88.236/\n",
      "A few other notes:\n",
      "• Above is an example showing you how to expose a service through\n",
      "vLB Layer 4. You can expose a service through vLB Layer 7 according\n",
      "to the instructions here .\n",
      "• To ensure the private cluster works effectively, we have automatically\n",
      "added the Subnet you choose to use for the Cluster to the cluster's\n",
      "Whitelist. You can use the Whitelist feature to limit the Subnets in the\n",
      "VPC that have access to kube-api. Details on how to use the Whitelist\n",
      "feature please refer here .\n",
      "http://Endpoint/' metadata={'source': './../../../data/sample.pdf', 'page': 90, 'start_index': 0}\n",
      "____________________________________________________________________________________________________\n"
     ]
    }
   ],
   "source": [
    "for res in results:\n",
    "    print(res, end=f\"\\n{'_'*100}\\n\")"
   ]
  },
  {
   "cell_type": "code",
   "execution_count": 24,
   "metadata": {},
   "outputs": [
    {
     "data": {
      "text/plain": [
       "4"
      ]
     },
     "execution_count": 24,
     "metadata": {},
     "output_type": "execute_result"
    }
   ],
   "source": [
    "len(results)"
   ]
  },
  {
   "cell_type": "markdown",
   "metadata": {},
   "source": [
    "# Return scores"
   ]
  },
  {
   "cell_type": "code",
   "execution_count": 28,
   "metadata": {},
   "outputs": [
    {
     "name": "stdout",
     "output_type": "stream",
     "text": [
      "Score: 0.6691585187705095\n",
      "\n",
      "page_content='22\n",
      "Getting Started with VKS' metadata={'source': './../../../data/sample.pdf', 'page': 21, 'start_index': 0}\n"
     ]
    }
   ],
   "source": [
    "results = vector_store.similarity_search_with_score(\n",
    "    \"How to create a pvc of 20Gi in VKS?\"\n",
    ")\n",
    "doc, score = results[0]\n",
    "print(f\"Score: {score}\\n\")\n",
    "print(doc)"
   ]
  },
  {
   "cell_type": "code",
   "execution_count": 29,
   "metadata": {},
   "outputs": [
    {
     "name": "stdout",
     "output_type": "stream",
     "text": [
      "(Document(id='16af7257-c570-4599-8d11-25c8ad8c3e72', metadata={'source': './../../../data/sample.pdf', 'page': 21, 'start_index': 0}, page_content='22\\nGetting Started with VKS'), 0.6691585187705095)\n",
      "____________________________________________________________________________________________________\n",
      "(Document(id='b011f88d-0818-4c6e-80e3-93fd3728baca', metadata={'source': './../../../data/sample.pdf', 'page': 281, 'start_index': 0}, page_content='282\\n• Run the following command to deploy a Pod using a Persistent Volume\\nCopy\\napiVersion: storage.k8s.io/v1\\nkind: StorageClass\\nmetadata:\\n  name: my-expansion-storage-class                    # [1] The Storag\\nprovisioner: bs.csi.vngcloud.vn                       # The VNG-CLOUD \\nparameters:\\n  type: vtype-61c3fc5b-f4e9-45b4-8957-8aa7b6029018    # The volume typ\\nallowVolumeExpansion: true                            # MUST set this \\n---\\napiVersion: v1\\nkind: PersistentVolumeClaim\\nmetadata:\\n  name: my-expansion-pvc                           # [2] The PVC name,\\nspec:\\n  accessModes:\\n    - ReadWriteOnce\\n  resources:\\n    requests:\\n      storage: 20Gi                                # [3] The PVC size,\\n  storageClassName: my-expansion-storage-class     # [4] The StorageCl\\n---\\napiVersion: v1\\nkind: Pod\\nmetadata:\\n  name: nginx                                      # [5] The Pod name,\\nspec:\\n  containers:\\n    - image: nginx\\n      imagePullPolicy: IfNotPresent\\n      name: nginx\\n      ports:'), 0.6102296497077168)\n",
      "____________________________________________________________________________________________________\n",
      "(Document(id='446a1531-290b-4fa1-858b-5d96c3913208', metadata={'source': './../../../data/sample.pdf', 'page': 118, 'start_index': 0}, page_content='119\\n• Run the following command to deploy Ingress\\napiVersion: storage.k8s.io/v1\\nkind: StorageClass\\nmetadata:\\n  name: my-expansion-storage-class                    # [1] The StorageCl\\nprovisioner: bs.csi.vngcloud.vn                       # The VNG-CLOUD CSI \\nparameters:\\n  type: vtype-61c3fc5b-f4e9-45b4-8957-8aa7b6029018    # The volume type U\\nallowVolumeExpansion: true                            # MUST set this val\\n---\\napiVersion: v1\\nkind: PersistentVolumeClaim\\nmetadata:\\n  name: my-expansion-pvc                           # [2] The PVC name, CA\\nspec:\\n  accessModes:\\n    - ReadWriteOnce\\n  resources:\\n    requests:\\n      storage: 20Gi                                # [3] The PVC size, CA\\n  storageClassName: my-expansion-storage-class     # [4] The StorageClass \\n---\\napiVersion: v1\\nkind: Pod\\nmetadata:\\n  name: nginx                                      # [5] The Pod name, CA\\nspec:\\n  containers:\\n    - image: nginx\\n      imagePullPolicy: IfNotPresent\\n      name: nginx\\n      ports:'), 0.6095852553212051)\n",
      "____________________________________________________________________________________________________\n",
      "(Document(id='c2d12172-9324-45b0-a00d-5a1ee2806941', metadata={'source': './../../../data/sample.pdf', 'page': 16, 'start_index': 0}, page_content='17\\nImprove:\\n• Upgrade VNGCloud Controller Manager Plugin, VNGCloud Ingress Controller\\nPlugin: Errors discovered in previous versions have been fixed, helping the\\nsystem operate smoother and more reliably.\\nVKS \\x00VNGCloud Kubernetes Service) introduces the latest update to the existing\\nVKS, bringing many new improvements to users. Here are the details about the\\nupdate:\\nImprove:\\n• Upgrade PVC size setting feature \\x00Persistent Volume Claim Size): Users can\\nnow specify the minimum size for CSI drives to be 1GB instead of the minimum\\nsize of 20GB as before. For more details, you can refer to Volume and Integrate\\nwith Container Storage Interface .\\n• Change the default Storage Class used for Cluster: change the default from\\nSSD type drives - IOPS 200 to the default SSD type drives - IOPS 3000.\\n• Upgrade VNGCloud Controller Manager Plugin, VNGCloud Ingress Controller\\nPlugin: plugin improvements help avoid duplicate Load Balancer naming.\\nAttention:'), 0.6080760772358352)\n",
      "____________________________________________________________________________________________________\n"
     ]
    }
   ],
   "source": [
    "for res in results:\n",
    "    print(res, end=f\"\\n{'_'*100}\\n\")"
   ]
  },
  {
   "cell_type": "markdown",
   "metadata": {},
   "source": [
    "# Return documents based on similarity to an embedded query"
   ]
  },
  {
   "cell_type": "code",
   "execution_count": 30,
   "metadata": {},
   "outputs": [
    {
     "name": "stdout",
     "output_type": "stream",
     "text": [
      "page_content='22\n",
      "Getting Started with VKS' metadata={'source': './../../../data/sample.pdf', 'page': 21, 'start_index': 0}\n"
     ]
    }
   ],
   "source": [
    "embedding = embeddings.embed_query(\"How to create a pvc of 20Gi in VKS?\")\n",
    "\n",
    "results = vector_store.similarity_search_by_vector(embedding)\n",
    "print(results[0])"
   ]
  },
  {
   "cell_type": "code",
   "execution_count": 31,
   "metadata": {},
   "outputs": [
    {
     "name": "stdout",
     "output_type": "stream",
     "text": [
      "page_content='22\n",
      "Getting Started with VKS' metadata={'source': './../../../data/sample.pdf', 'page': 21, 'start_index': 0}\n",
      "____________________________________________________________________________________________________\n",
      "page_content='282\n",
      "• Run the following command to deploy a Pod using a Persistent Volume\n",
      "Copy\n",
      "apiVersion: storage.k8s.io/v1\n",
      "kind: StorageClass\n",
      "metadata:\n",
      "  name: my-expansion-storage-class                    # [1] The Storag\n",
      "provisioner: bs.csi.vngcloud.vn                       # The VNG-CLOUD \n",
      "parameters:\n",
      "  type: vtype-61c3fc5b-f4e9-45b4-8957-8aa7b6029018    # The volume typ\n",
      "allowVolumeExpansion: true                            # MUST set this \n",
      "---\n",
      "apiVersion: v1\n",
      "kind: PersistentVolumeClaim\n",
      "metadata:\n",
      "  name: my-expansion-pvc                           # [2] The PVC name,\n",
      "spec:\n",
      "  accessModes:\n",
      "    - ReadWriteOnce\n",
      "  resources:\n",
      "    requests:\n",
      "      storage: 20Gi                                # [3] The PVC size,\n",
      "  storageClassName: my-expansion-storage-class     # [4] The StorageCl\n",
      "---\n",
      "apiVersion: v1\n",
      "kind: Pod\n",
      "metadata:\n",
      "  name: nginx                                      # [5] The Pod name,\n",
      "spec:\n",
      "  containers:\n",
      "    - image: nginx\n",
      "      imagePullPolicy: IfNotPresent\n",
      "      name: nginx\n",
      "      ports:' metadata={'source': './../../../data/sample.pdf', 'page': 281, 'start_index': 0}\n",
      "____________________________________________________________________________________________________\n",
      "page_content='119\n",
      "• Run the following command to deploy Ingress\n",
      "apiVersion: storage.k8s.io/v1\n",
      "kind: StorageClass\n",
      "metadata:\n",
      "  name: my-expansion-storage-class                    # [1] The StorageCl\n",
      "provisioner: bs.csi.vngcloud.vn                       # The VNG-CLOUD CSI \n",
      "parameters:\n",
      "  type: vtype-61c3fc5b-f4e9-45b4-8957-8aa7b6029018    # The volume type U\n",
      "allowVolumeExpansion: true                            # MUST set this val\n",
      "---\n",
      "apiVersion: v1\n",
      "kind: PersistentVolumeClaim\n",
      "metadata:\n",
      "  name: my-expansion-pvc                           # [2] The PVC name, CA\n",
      "spec:\n",
      "  accessModes:\n",
      "    - ReadWriteOnce\n",
      "  resources:\n",
      "    requests:\n",
      "      storage: 20Gi                                # [3] The PVC size, CA\n",
      "  storageClassName: my-expansion-storage-class     # [4] The StorageClass \n",
      "---\n",
      "apiVersion: v1\n",
      "kind: Pod\n",
      "metadata:\n",
      "  name: nginx                                      # [5] The Pod name, CA\n",
      "spec:\n",
      "  containers:\n",
      "    - image: nginx\n",
      "      imagePullPolicy: IfNotPresent\n",
      "      name: nginx\n",
      "      ports:' metadata={'source': './../../../data/sample.pdf', 'page': 118, 'start_index': 0}\n",
      "____________________________________________________________________________________________________\n",
      "page_content='17\n",
      "Improve:\n",
      "• Upgrade VNGCloud Controller Manager Plugin, VNGCloud Ingress Controller\n",
      "Plugin: Errors discovered in previous versions have been fixed, helping the\n",
      "system operate smoother and more reliably.\n",
      "VKS \u0000VNGCloud Kubernetes Service) introduces the latest update to the existing\n",
      "VKS, bringing many new improvements to users. Here are the details about the\n",
      "update:\n",
      "Improve:\n",
      "• Upgrade PVC size setting feature \u0000Persistent Volume Claim Size): Users can\n",
      "now specify the minimum size for CSI drives to be 1GB instead of the minimum\n",
      "size of 20GB as before. For more details, you can refer to Volume and Integrate\n",
      "with Container Storage Interface .\n",
      "• Change the default Storage Class used for Cluster: change the default from\n",
      "SSD type drives - IOPS 200 to the default SSD type drives - IOPS 3000.\n",
      "• Upgrade VNGCloud Controller Manager Plugin, VNGCloud Ingress Controller\n",
      "Plugin: plugin improvements help avoid duplicate Load Balancer naming.\n",
      "Attention:' metadata={'source': './../../../data/sample.pdf', 'page': 16, 'start_index': 0}\n",
      "____________________________________________________________________________________________________\n"
     ]
    }
   ],
   "source": [
    "for res in results:\n",
    "    print(res, end=f\"\\n{'_'*100}\\n\")"
   ]
  },
  {
   "cell_type": "markdown",
   "metadata": {},
   "source": [
    "# Retrievers"
   ]
  },
  {
   "cell_type": "code",
   "execution_count": 35,
   "metadata": {},
   "outputs": [],
   "source": [
    "@chain\n",
    "def retriever(query: str) -> List[Document]:\n",
    "    return vector_store.similarity_search(query, k=1)"
   ]
  },
  {
   "cell_type": "code",
   "execution_count": 36,
   "metadata": {},
   "outputs": [
    {
     "data": {
      "text/plain": [
       "[[Document(id='4071a435-a00e-4306-a0d9-3ac7f1c6b214', metadata={'source': './../../../data/sample.pdf', 'page': 163, 'start_index': 0}, page_content='164\\nWhen you create a Public Cluster with Public/Private Node Group , the VKS\\nsystem will:\\n• To enhance the security of your cluster, we have introduced the private cluster\\nmodel. The Private Cluster feature helps make your K8S cluster as secure as\\npossible, all connections are completely private from the connection between\\nnodes to the control plane, the connection from the client to the control plane,\\nor the connection from nodes to products. Other services in VNG Cloud such\\nas: vStorage, vCR, vMonitor, VNGCloud APIs,...Private Cluster is the ideal\\nchoice for services that require strict access control, ensuring compliance\\nwith security regulations and data privacy.\\nBelow is a comparison table between creating and using Public Cluster and Private\\nCluster on the VKS system:\\nCriteria Public Cluster Private Cluster\\nConnect Use Public IP addresses to\\ncommunicate between\\nnodes and control plane,\\nbetween clients and control\\nplane, between nodes and\\nUse Private IP addresses to')],\n",
       " [Document(id='eea56549-ef9d-419f-8e83-969674fb4b4f', metadata={'source': './../../../data/sample.pdf', 'page': 19, 'start_index': 0}, page_content=\"20\\nThe latest update for VKS is available, bringing many new features and\\nimprovements to users. Here are the details about the update:\\nNew feature:\\n• Supports Whitelist feature: VKS allows creating a Private Node Group with only\\nPrivate IP and also allows any IP to connect to the Cluster through the Whitelist\\nIP feature. For more details, please refer to Whitelist .\\nImprove:\\n• System optimization: Helps the system operate more smoothly and efficiently.\\n• Bug Fixes: Fixed some minor bugs to provide a better user experience.\\nIf you encounter any problems after updating, please contact VKS support for\\nassistance.\\nWe're excited to introduce a new update to the VKS service, giving you a more\\npowerful and efficient Kubernetes management experience than ever before!\\nHighlights:\\n• Fully Managed control plane: VKS will free you from the burden of managing\\nKubernetes' Control Plane, helping you focus on application development.\")]]"
      ]
     },
     "execution_count": 36,
     "metadata": {},
     "output_type": "execute_result"
    }
   ],
   "source": [
    "retriever.batch(\n",
    "    [\n",
    "        \"Compare VKS private and public clusters\",\n",
    "        \"What is the latest release note of VKS?\",\n",
    "    ],\n",
    ")"
   ]
  },
  {
   "cell_type": "code",
   "execution_count": 37,
   "metadata": {},
   "outputs": [],
   "source": [
    "retriever = vector_store.as_retriever(\n",
    "    search_type=\"similarity\",\n",
    "    search_kwargs={\"k\": 1},\n",
    ")"
   ]
  },
  {
   "cell_type": "code",
   "execution_count": 38,
   "metadata": {},
   "outputs": [
    {
     "data": {
      "text/plain": [
       "[[Document(id='01374ba9-b3a6-4a8f-afea-90f600d6b6d2', metadata={'source': './../../../data/sample.pdf', 'page': 145, 'start_index': 0}, page_content='146\\n• VKS uses the built-in timesharing ability provided by the NVIDIA GPU and the\\nsoftware stack. Starting with the Pascal architecture, NVIDIA GPUs support\\ninstruction level preemption. When doing context switching between processes\\nrunning on a GPU, instruction-level preemption ensures every process gets a\\nfair timeslice. GPU time-sharing provides software-level isolation between the\\nworkloads in terms of address space isolation, performance isolation, and error\\nisolation.\\nfully\\nsatur\\nate\\nthe\\nwhole\\nGPU.\\n• Workl\\noads\\nthat\\nuse\\nCUDA\\nMPS\\nneed\\nto\\ntolera\\nte the\\nmem\\nory\\nprote\\nction\\nand\\nerror\\ncontai\\nnmen\\nt\\nlimitat\\nions.\\nGPU time-slicing\\nConfigure GPU time-slicing')],\n",
       " [Document(id='b1b017af-1322-44db-a0a6-549cc0a5e2d7', metadata={'source': './../../../data/sample.pdf', 'page': 3, 'start_index': 0}, page_content='4\\n• Support for the latest Kubernetes versions: VKS is always updating to the\\nlatest Kubernetes versions (minor versions from 1.27, 1.28, 1.29) to ensure you\\ncan take advantage of the most advanced features.\\n• Kubernetes Networking: VKS integrates Calico CNI, providing high efficiency\\nand security.\\n• Upgrade seamlessly: VKS supports easy and fast upgrades between\\nKubernetes versions, helping you stay updated with the latest improvements.\\n• Scaling & Healing Automatically: VKS automatically scales the Node group\\nwhen needed and repairs issues when nodes encounter problems, saving you\\ntime and effort in management.\\n• Reduce costs and enhance reliability: VKS deploys the Kubernetes Control\\nPlane in a highly available mode and completely for free, helping you save costs\\nand improve system reliability.\\n• Integration of Native Blockstore \\x00Container Storage Interface - CSI\\x00\\x00 VKS\\nallows you to manage Blockstore through Kubernetes YAML, providing')]]"
      ]
     },
     "execution_count": 38,
     "metadata": {},
     "output_type": "execute_result"
    }
   ],
   "source": [
    "retriever.batch(\n",
    "    [\n",
    "        \"Does VKS support GPU?\",\n",
    "        \"Does VKS support CSI?\",\n",
    "    ],\n",
    ")"
   ]
  },
  {
   "cell_type": "code",
   "execution_count": null,
   "metadata": {},
   "outputs": [],
   "source": []
  }
 ],
 "metadata": {
  "kernelspec": {
   "display_name": ".venv",
   "language": "python",
   "name": "python3"
  },
  "language_info": {
   "codemirror_mode": {
    "name": "ipython",
    "version": 3
   },
   "file_extension": ".py",
   "mimetype": "text/x-python",
   "name": "python",
   "nbconvert_exporter": "python",
   "pygments_lexer": "ipython3",
   "version": "3.12.3"
  }
 },
 "nbformat": 4,
 "nbformat_minor": 2
}
