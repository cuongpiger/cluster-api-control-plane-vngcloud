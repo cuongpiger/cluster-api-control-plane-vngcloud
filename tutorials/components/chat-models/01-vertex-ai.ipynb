{
 "cells": [
  {
   "cell_type": "code",
   "execution_count": 1,
   "metadata": {},
   "outputs": [],
   "source": [
    "%load_ext autoreload\n",
    "%autoreload 2"
   ]
  },
  {
   "cell_type": "markdown",
   "metadata": {},
   "source": [
    "# Import dependencies"
   ]
  },
  {
   "cell_type": "code",
   "execution_count": 15,
   "metadata": {},
   "outputs": [],
   "source": [
    "import os\n",
    "\n",
    "from langchain_google_vertexai import ChatVertexAI\n",
    "from IPython.display import display, Markdown, Latex"
   ]
  },
  {
   "cell_type": "markdown",
   "metadata": {},
   "source": [
    "# Configure GOOGLE_APPLICATION_CREDENTIALS environment variable"
   ]
  },
  {
   "cell_type": "code",
   "execution_count": 8,
   "metadata": {},
   "outputs": [],
   "source": [
    "os.environ['GOOGLE_APPLICATION_CREDENTIALS'] = '/home/stackops/langchain-labs/secrets/vertex-ai-credential.json'"
   ]
  },
  {
   "cell_type": "code",
   "execution_count": 9,
   "metadata": {},
   "outputs": [],
   "source": [
    "model = ChatVertexAI(model=\"gemini-1.5-flash\")"
   ]
  },
  {
   "cell_type": "markdown",
   "metadata": {},
   "source": [
    "# QA"
   ]
  },
  {
   "cell_type": "code",
   "execution_count": 12,
   "metadata": {},
   "outputs": [],
   "source": [
    "result = model.invoke(\"What is Cilium Native Routing?\")"
   ]
  },
  {
   "cell_type": "code",
   "execution_count": 16,
   "metadata": {},
   "outputs": [
    {
     "data": {
      "text/markdown": [
       "## Cilium Native Routing: Bridging the Gap Between Kubernetes and the Network\n",
       "\n",
       "Cilium Native Routing is a powerful feature within the Cilium service mesh that **optimizes network traffic within a Kubernetes cluster by leveraging the underlying network infrastructure.** It allows for a more direct and efficient way of routing traffic compared to traditional Kubernetes network solutions.\n",
       "\n",
       "Here's a breakdown of what it does and why it's beneficial:\n",
       "\n",
       "**How it Works:**\n",
       "\n",
       "* **Direct routing:** Cilium Native Routing leverages the native routing capabilities of the underlying network, bypassing the need for external routing tables or complex overlays. This eliminates the need for extra hops and reduces network latency.\n",
       "* **Efficient communication:** It allows for direct communication between pods without relying on external load balancers or service proxies, making communication faster and more efficient.\n",
       "* **Flexibility and scalability:** It enables flexible deployment models, allowing for more efficient resource utilization and scaling in large clusters.\n",
       "* **Security Integration:** It seamlessly integrates with Cilium's security features, ensuring that traffic flows only through authorized paths and protocols.\n",
       "\n",
       "**Benefits:**\n",
       "\n",
       "* **Improved performance:** Faster communication due to direct routing and reduced network hops leads to better application performance.\n",
       "* **Lower latency:** Direct routing eliminates the overhead associated with traditional networking solutions, resulting in lower latency.\n",
       "* **Reduced resource consumption:** By leveraging native networking capabilities, Cilium Native Routing minimizes resource usage and overhead, improving cluster efficiency.\n",
       "* **Enhanced security:** Integration with Cilium's security features provides strong security guarantees, protecting sensitive data and applications.\n",
       "* **Simplified management:** Easier configuration and management compared to traditional Kubernetes networking solutions.\n",
       "\n",
       "**When to Use It:**\n",
       "\n",
       "Cilium Native Routing is well-suited for:\n",
       "\n",
       "* **Microservice-based applications:** Where efficient communication between services is critical for performance.\n",
       "* **High-performance applications:** Applications requiring low latency and high throughput.\n",
       "* **Large-scale deployments:** In scenarios where scalability and resource efficiency are essential.\n",
       "* **Security-sensitive workloads:** Where strong security guarantees are required.\n",
       "\n",
       "**Caveats:**\n",
       "\n",
       "* **Infrastructure dependency:** It requires support from the underlying network infrastructure, such as Linux kernel features like BPF and XDP.\n",
       "* **Complexity:** Setting up and configuring Native Routing might require advanced network knowledge.\n",
       "\n",
       "**Overall, Cilium Native Routing offers a significant improvement over traditional Kubernetes networking solutions, enabling faster, more efficient, and secure communication within a cluster.** By leveraging native network capabilities, it bridges the gap between Kubernetes and the underlying network, unlocking new possibilities for performance and scalability.\n"
      ],
      "text/plain": [
       "<IPython.core.display.Markdown object>"
      ]
     },
     "metadata": {},
     "output_type": "display_data"
    }
   ],
   "source": [
    "display(Markdown(result.content))"
   ]
  },
  {
   "cell_type": "code",
   "execution_count": null,
   "metadata": {},
   "outputs": [],
   "source": []
  }
 ],
 "metadata": {
  "kernelspec": {
   "display_name": "Python 3",
   "language": "python",
   "name": "python3"
  },
  "language_info": {
   "codemirror_mode": {
    "name": "ipython",
    "version": 3
   },
   "file_extension": ".py",
   "mimetype": "text/x-python",
   "name": "python",
   "nbconvert_exporter": "python",
   "pygments_lexer": "ipython3",
   "version": "3.10.12"
  }
 },
 "nbformat": 4,
 "nbformat_minor": 2
}
