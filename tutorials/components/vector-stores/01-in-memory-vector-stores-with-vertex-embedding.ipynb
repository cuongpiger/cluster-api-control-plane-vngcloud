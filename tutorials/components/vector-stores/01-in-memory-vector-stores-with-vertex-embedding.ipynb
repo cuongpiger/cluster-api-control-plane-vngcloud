{
 "cells": [
  {
   "cell_type": "code",
   "execution_count": 1,
   "metadata": {},
   "outputs": [],
   "source": [
    "#!pip install langchain-core"
   ]
  },
  {
   "cell_type": "code",
   "execution_count": 2,
   "metadata": {},
   "outputs": [],
   "source": [
    "%load_ext autoreload\n",
    "%autoreload 2"
   ]
  },
  {
   "cell_type": "markdown",
   "metadata": {},
   "source": [
    "# Import dependencies"
   ]
  },
  {
   "cell_type": "code",
   "execution_count": 3,
   "metadata": {},
   "outputs": [],
   "source": [
    "import os\n",
    "\n",
    "from langchain_google_vertexai import ChatVertexAI\n",
    "from langchain_google_vertexai import VertexAIEmbeddings\n",
    "from langchain_core.vectorstores import InMemoryVectorStore\n",
    "from langchain_core.documents import Document\n",
    "\n",
    "from IPython.display import display, Markdown, Latex"
   ]
  },
  {
   "cell_type": "markdown",
   "metadata": {},
   "source": [
    "# Configure GOOGLE_APPLICATION_CREDENTIALS environment variable"
   ]
  },
  {
   "cell_type": "code",
   "execution_count": 4,
   "metadata": {},
   "outputs": [],
   "source": [
    "os.environ['GOOGLE_APPLICATION_CREDENTIALS'] = '/home/stackops/langchain-labs/secrets/vertex-ai-credential.json'"
   ]
  },
  {
   "cell_type": "markdown",
   "metadata": {},
   "source": [
    "# Embedding phase"
   ]
  },
  {
   "cell_type": "code",
   "execution_count": 5,
   "metadata": {},
   "outputs": [],
   "source": [
    "embeddings = VertexAIEmbeddings(model_name=\"text-embedding-004\")"
   ]
  },
  {
   "cell_type": "markdown",
   "metadata": {},
   "source": [
    "# VectorStore"
   ]
  },
  {
   "cell_type": "code",
   "execution_count": 6,
   "metadata": {},
   "outputs": [],
   "source": [
    "vector_store = InMemoryVectorStore(embeddings)"
   ]
  },
  {
   "cell_type": "code",
   "execution_count": 7,
   "metadata": {},
   "outputs": [
    {
     "data": {
      "text/plain": [
       "['38f904bd-c756-4c76-80b6-6767b75dd9fb',\n",
       " '7b6145d5-20d7-4a3e-b642-8453d7d48a5e',\n",
       " '48b6ec25-911f-4675-8e80-206dbf8eeb79']"
      ]
     },
     "execution_count": 7,
     "metadata": {},
     "output_type": "execute_result"
    }
   ],
   "source": [
    "vector_store.add_documents(\n",
    "    documents=[\n",
    "        Document(\"RAG là một mô hình học sâu được sử dụng để trả lời câu hỏi. Nó cho phép bạn truy vấn một tập hợp lớn các tài liệu để trả lời câu hỏi.\"),\n",
    "        Document(\"Semantic Search là kỹ thuật tìm kiếm dựa trên nghĩa của từ, câu hoặc văn bản. Nó giúp bạn tìm kiếm thông tin mà không cần phải chính xác với từ khóa.\"),\n",
    "        Document(\"VngCloud là một nền tảng đám mây của VNG. Nó cung cấp các dịch vụ như máy chủ ảo, lưu trữ, cơ sở dữ liệu, bảo mật, và nhiều hơn nữa.\"),\n",
    "    ]\n",
    ")"
   ]
  },
  {
   "cell_type": "code",
   "execution_count": 8,
   "metadata": {},
   "outputs": [],
   "source": [
    "res = vector_store.similarity_search(\"VngCloud là gì?\", k=1)"
   ]
  },
  {
   "cell_type": "code",
   "execution_count": 9,
   "metadata": {},
   "outputs": [
    {
     "data": {
      "text/plain": [
       "[Document(id='48b6ec25-911f-4675-8e80-206dbf8eeb79', metadata={}, page_content='VngCloud là một nền tảng đám mây của VNG. Nó cung cấp các dịch vụ như máy chủ ảo, lưu trữ, cơ sở dữ liệu, bảo mật, và nhiều hơn nữa.')]"
      ]
     },
     "execution_count": 9,
     "metadata": {},
     "output_type": "execute_result"
    }
   ],
   "source": [
    "res"
   ]
  },
  {
   "cell_type": "code",
   "execution_count": null,
   "metadata": {},
   "outputs": [],
   "source": []
  }
 ],
 "metadata": {
  "kernelspec": {
   "display_name": "Python 3",
   "language": "python",
   "name": "python3"
  },
  "language_info": {
   "codemirror_mode": {
    "name": "ipython",
    "version": 3
   },
   "file_extension": ".py",
   "mimetype": "text/x-python",
   "name": "python",
   "nbconvert_exporter": "python",
   "pygments_lexer": "ipython3",
   "version": "3.10.12"
  }
 },
 "nbformat": 4,
 "nbformat_minor": 2
}
