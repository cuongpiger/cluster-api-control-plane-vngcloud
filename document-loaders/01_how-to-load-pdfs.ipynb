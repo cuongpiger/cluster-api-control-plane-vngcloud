{
 "cells": [
  {
   "cell_type": "markdown",
   "metadata": {},
   "source": [
    "# How to load PDFs\n",
    "- This guide covers how to load PDF documents into the LangChain Document format that we use downstream."
   ]
  },
  {
   "cell_type": "code",
   "execution_count": 1,
   "metadata": {},
   "outputs": [
    {
     "name": "stdout",
     "output_type": "stream",
     "text": [
      "Requirement already satisfied: pypdf in /mnt/Exdisk/git-cuongpiger/langchain-labs/.venv/lib/python3.12/site-packages (5.1.0)\n"
     ]
    }
   ],
   "source": [
    "!pip install pypdf"
   ]
  },
  {
   "cell_type": "code",
   "execution_count": 2,
   "metadata": {},
   "outputs": [],
   "source": [
    "from langchain_community.document_loaders import PyPDFLoader"
   ]
  },
  {
   "cell_type": "code",
   "execution_count": 14,
   "metadata": {},
   "outputs": [],
   "source": [
    "file_path = \"./../data/sample.pdf\""
   ]
  },
  {
   "cell_type": "code",
   "execution_count": 15,
   "metadata": {},
   "outputs": [],
   "source": [
    "loader = PyPDFLoader(file_path)\n",
    "pages = []\n",
    "\n",
    "async for page in loader.alazy_load():\n",
    "    pages.append(page)"
   ]
  },
  {
   "cell_type": "code",
   "execution_count": 16,
   "metadata": {},
   "outputs": [
    {
     "name": "stdout",
     "output_type": "stream",
     "text": [
      "{'source': './../data/sample.pdf', 'page': 0}\n",
      "\n",
      "5\n",
      "How VKS works?\n",
      "Below are the current concepts being provided to you by VKS\u0000\n",
      "When you create a Public Cluster with Public Node Group , the VKS system will:\n",
      "• Create a VM with Floating IP (ie Public IP\u0000. Now these VMs \u0000Nodes\u0000 can directly\n",
      "join the K8S cluster through this Public IP. By using Public Cluster and Public\n",
      "Node Group, you can easily create Kubernetes clusters and expose services\n",
      "without using Load Balancer. This will contribute to cost savings for your\n",
      "cluster.\n",
      "When you create a Public Cluster with a Private Node Group , the VKS system will:\n",
      "• Create VM without Floating IP (ie without Public IP\u0000. At this time, these VMs\n",
      "\u0000Nodes\u0000 cannot join the K8S cluster directly. In order for these VMs to join the\n",
      "K8S cluster, you need to use a NAT Gateway ( NATGW ). NATGW acts as a\n",
      "relay station, allowing VMs to connect to the K8S cluster without needing a\n",
      "Public IP. With VNG Cloud, we recommend you use Pfsense or Palo Alto as a\n",
      "NATGW for your Cluster. Pfsense will help you manage incoming and outgoing\n",
      "network traffic (inbound and outbound traffic) effectively, ensuring network\n",
      "security and access management. Besides, using Private Node Group will help\n",
      "you control applications in the cluster more securely, specifically you can limit\n",
      "control plane access rights through the Whitelist IP feature.\n",
      "1. Public Cluster\n",
      "\n"
     ]
    }
   ],
   "source": [
    "print(f\"{pages[0].metadata}\\n\")\n",
    "print(pages[4].page_content)"
   ]
  },
  {
   "cell_type": "code",
   "execution_count": null,
   "metadata": {},
   "outputs": [],
   "source": []
  }
 ],
 "metadata": {
  "kernelspec": {
   "display_name": ".venv",
   "language": "python",
   "name": "python3"
  },
  "language_info": {
   "codemirror_mode": {
    "name": "ipython",
    "version": 3
   },
   "file_extension": ".py",
   "mimetype": "text/x-python",
   "name": "python",
   "nbconvert_exporter": "python",
   "pygments_lexer": "ipython3",
   "version": "3.12.3"
  }
 },
 "nbformat": 4,
 "nbformat_minor": 2
}
